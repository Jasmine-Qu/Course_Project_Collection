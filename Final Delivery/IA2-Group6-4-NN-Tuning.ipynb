{
 "cells": [
  {
   "cell_type": "code",
   "execution_count": 2,
   "metadata": {
    "id": "usvwwJKXf0YR"
   },
   "outputs": [],
   "source": [
    "import warnings\n",
    "warnings.filterwarnings(\"ignore\")\n",
    "import tensorflow as tf\n",
    "import logging\n",
    "tf.get_logger().setLevel(logging.ERROR)"
   ]
  },
  {
   "cell_type": "code",
   "execution_count": 3,
   "metadata": {
    "id": "X519TJczfyZn"
   },
   "outputs": [],
   "source": [
    "import numpy as np\n",
    "import pandas as pd\n",
    "import matplotlib.pyplot as plt"
   ]
  },
  {
   "cell_type": "code",
   "execution_count": 4,
   "metadata": {
    "id": "lkG8cE0YfyZo"
   },
   "outputs": [],
   "source": [
    "from keras.models import Sequential\n",
    "from keras.layers import Dense,Dropout\n",
    "from keras.utils import to_categorical\n",
    "from keras.optimizers import Adam\n",
    "from sklearn.model_selection import train_test_split\n",
    "from sklearn.preprocessing import MinMaxScaler,StandardScaler\n",
    "from sklearn.metrics import mean_squared_error, r2_score, classification_report, confusion_matrix, accuracy_score"
   ]
  },
  {
   "cell_type": "code",
   "execution_count": 16,
   "metadata": {
    "id": "-5_8v-LnfyZp"
   },
   "outputs": [],
   "source": [
    "from keras.wrappers.scikit_learn import KerasClassifier\n",
    "from sklearn.pipeline import Pipeline\n",
    "from sklearn.model_selection import GridSearchCV\n",
    "from sklearn.preprocessing import OneHotEncoder"
   ]
  },
  {
   "cell_type": "code",
   "execution_count": 17,
   "metadata": {
    "id": "Sp9q_gHhfyZp"
   },
   "outputs": [],
   "source": [
    "np.random.seed(2021)"
   ]
  },
  {
   "cell_type": "code",
   "execution_count": 7,
   "metadata": {
    "colab": {
     "base_uri": "https://localhost:8080/",
     "height": 309
    },
    "id": "px9cOp1UfyZp",
    "outputId": "571cd165-1202-4c30-c4d2-92ee958f818d"
   },
   "outputs": [
    {
     "data": {
      "text/html": [
       "<div>\n",
       "<style scoped>\n",
       "    .dataframe tbody tr th:only-of-type {\n",
       "        vertical-align: middle;\n",
       "    }\n",
       "\n",
       "    .dataframe tbody tr th {\n",
       "        vertical-align: top;\n",
       "    }\n",
       "\n",
       "    .dataframe thead th {\n",
       "        text-align: right;\n",
       "    }\n",
       "</style>\n",
       "<table border=\"1\" class=\"dataframe\">\n",
       "  <thead>\n",
       "    <tr style=\"text-align: right;\">\n",
       "      <th></th>\n",
       "      <th>url</th>\n",
       "      <th>timedelta</th>\n",
       "      <th>n_tokens_title</th>\n",
       "      <th>n_tokens_content</th>\n",
       "      <th>n_unique_tokens</th>\n",
       "      <th>n_non_stop_words</th>\n",
       "      <th>n_non_stop_unique_tokens</th>\n",
       "      <th>num_hrefs</th>\n",
       "      <th>num_self_hrefs</th>\n",
       "      <th>num_imgs</th>\n",
       "      <th>...</th>\n",
       "      <th>max_positive_polarity</th>\n",
       "      <th>avg_negative_polarity</th>\n",
       "      <th>min_negative_polarity</th>\n",
       "      <th>max_negative_polarity</th>\n",
       "      <th>title_subjectivity</th>\n",
       "      <th>title_sentiment_polarity</th>\n",
       "      <th>abs_title_subjectivity</th>\n",
       "      <th>abs_title_sentiment_polarity</th>\n",
       "      <th>shares</th>\n",
       "      <th>category</th>\n",
       "    </tr>\n",
       "  </thead>\n",
       "  <tbody>\n",
       "    <tr>\n",
       "      <th>0</th>\n",
       "      <td>http://mashable.com/2013/01/07/amazon-instant-...</td>\n",
       "      <td>731</td>\n",
       "      <td>12</td>\n",
       "      <td>219</td>\n",
       "      <td>0.663594</td>\n",
       "      <td>1.0</td>\n",
       "      <td>0.815385</td>\n",
       "      <td>4</td>\n",
       "      <td>2</td>\n",
       "      <td>1</td>\n",
       "      <td>...</td>\n",
       "      <td>0.7</td>\n",
       "      <td>-0.350000</td>\n",
       "      <td>-0.600</td>\n",
       "      <td>-0.200000</td>\n",
       "      <td>0.500000</td>\n",
       "      <td>-0.187500</td>\n",
       "      <td>0.000000</td>\n",
       "      <td>0.187500</td>\n",
       "      <td>593</td>\n",
       "      <td>0</td>\n",
       "    </tr>\n",
       "    <tr>\n",
       "      <th>1</th>\n",
       "      <td>http://mashable.com/2013/01/07/ap-samsung-spon...</td>\n",
       "      <td>731</td>\n",
       "      <td>9</td>\n",
       "      <td>255</td>\n",
       "      <td>0.604743</td>\n",
       "      <td>1.0</td>\n",
       "      <td>0.791946</td>\n",
       "      <td>3</td>\n",
       "      <td>1</td>\n",
       "      <td>1</td>\n",
       "      <td>...</td>\n",
       "      <td>0.7</td>\n",
       "      <td>-0.118750</td>\n",
       "      <td>-0.125</td>\n",
       "      <td>-0.100000</td>\n",
       "      <td>0.000000</td>\n",
       "      <td>0.000000</td>\n",
       "      <td>0.500000</td>\n",
       "      <td>0.000000</td>\n",
       "      <td>711</td>\n",
       "      <td>0</td>\n",
       "    </tr>\n",
       "    <tr>\n",
       "      <th>2</th>\n",
       "      <td>http://mashable.com/2013/01/07/apple-40-billio...</td>\n",
       "      <td>731</td>\n",
       "      <td>9</td>\n",
       "      <td>211</td>\n",
       "      <td>0.575130</td>\n",
       "      <td>1.0</td>\n",
       "      <td>0.663866</td>\n",
       "      <td>3</td>\n",
       "      <td>1</td>\n",
       "      <td>1</td>\n",
       "      <td>...</td>\n",
       "      <td>1.0</td>\n",
       "      <td>-0.466667</td>\n",
       "      <td>-0.800</td>\n",
       "      <td>-0.133333</td>\n",
       "      <td>0.000000</td>\n",
       "      <td>0.000000</td>\n",
       "      <td>0.500000</td>\n",
       "      <td>0.000000</td>\n",
       "      <td>1500</td>\n",
       "      <td>1</td>\n",
       "    </tr>\n",
       "    <tr>\n",
       "      <th>3</th>\n",
       "      <td>http://mashable.com/2013/01/07/astronaut-notre...</td>\n",
       "      <td>731</td>\n",
       "      <td>9</td>\n",
       "      <td>531</td>\n",
       "      <td>0.503788</td>\n",
       "      <td>1.0</td>\n",
       "      <td>0.665635</td>\n",
       "      <td>9</td>\n",
       "      <td>0</td>\n",
       "      <td>1</td>\n",
       "      <td>...</td>\n",
       "      <td>0.8</td>\n",
       "      <td>-0.369697</td>\n",
       "      <td>-0.600</td>\n",
       "      <td>-0.166667</td>\n",
       "      <td>0.000000</td>\n",
       "      <td>0.000000</td>\n",
       "      <td>0.500000</td>\n",
       "      <td>0.000000</td>\n",
       "      <td>1200</td>\n",
       "      <td>0</td>\n",
       "    </tr>\n",
       "    <tr>\n",
       "      <th>4</th>\n",
       "      <td>http://mashable.com/2013/01/07/att-u-verse-apps/</td>\n",
       "      <td>731</td>\n",
       "      <td>13</td>\n",
       "      <td>1072</td>\n",
       "      <td>0.415646</td>\n",
       "      <td>1.0</td>\n",
       "      <td>0.540890</td>\n",
       "      <td>19</td>\n",
       "      <td>19</td>\n",
       "      <td>20</td>\n",
       "      <td>...</td>\n",
       "      <td>1.0</td>\n",
       "      <td>-0.220192</td>\n",
       "      <td>-0.500</td>\n",
       "      <td>-0.050000</td>\n",
       "      <td>0.454545</td>\n",
       "      <td>0.136364</td>\n",
       "      <td>0.045455</td>\n",
       "      <td>0.136364</td>\n",
       "      <td>505</td>\n",
       "      <td>0</td>\n",
       "    </tr>\n",
       "  </tbody>\n",
       "</table>\n",
       "<p>5 rows × 62 columns</p>\n",
       "</div>"
      ],
      "text/plain": [
       "                                                 url  timedelta  \\\n",
       "0  http://mashable.com/2013/01/07/amazon-instant-...        731   \n",
       "1  http://mashable.com/2013/01/07/ap-samsung-spon...        731   \n",
       "2  http://mashable.com/2013/01/07/apple-40-billio...        731   \n",
       "3  http://mashable.com/2013/01/07/astronaut-notre...        731   \n",
       "4   http://mashable.com/2013/01/07/att-u-verse-apps/        731   \n",
       "\n",
       "   n_tokens_title  n_tokens_content  n_unique_tokens  n_non_stop_words  \\\n",
       "0              12               219         0.663594               1.0   \n",
       "1               9               255         0.604743               1.0   \n",
       "2               9               211         0.575130               1.0   \n",
       "3               9               531         0.503788               1.0   \n",
       "4              13              1072         0.415646               1.0   \n",
       "\n",
       "   n_non_stop_unique_tokens  num_hrefs  num_self_hrefs  num_imgs  ...  \\\n",
       "0                  0.815385          4               2         1  ...   \n",
       "1                  0.791946          3               1         1  ...   \n",
       "2                  0.663866          3               1         1  ...   \n",
       "3                  0.665635          9               0         1  ...   \n",
       "4                  0.540890         19              19        20  ...   \n",
       "\n",
       "   max_positive_polarity  avg_negative_polarity  min_negative_polarity  \\\n",
       "0                    0.7              -0.350000                 -0.600   \n",
       "1                    0.7              -0.118750                 -0.125   \n",
       "2                    1.0              -0.466667                 -0.800   \n",
       "3                    0.8              -0.369697                 -0.600   \n",
       "4                    1.0              -0.220192                 -0.500   \n",
       "\n",
       "   max_negative_polarity  title_subjectivity  title_sentiment_polarity  \\\n",
       "0              -0.200000            0.500000                 -0.187500   \n",
       "1              -0.100000            0.000000                  0.000000   \n",
       "2              -0.133333            0.000000                  0.000000   \n",
       "3              -0.166667            0.000000                  0.000000   \n",
       "4              -0.050000            0.454545                  0.136364   \n",
       "\n",
       "   abs_title_subjectivity  abs_title_sentiment_polarity  shares  category  \n",
       "0                0.000000                      0.187500     593         0  \n",
       "1                0.500000                      0.000000     711         0  \n",
       "2                0.500000                      0.000000    1500         1  \n",
       "3                0.500000                      0.000000    1200         0  \n",
       "4                0.045455                      0.136364     505         0  \n",
       "\n",
       "[5 rows x 62 columns]"
      ]
     },
     "execution_count": 7,
     "metadata": {},
     "output_type": "execute_result"
    }
   ],
   "source": [
    "data=pd.read_csv('OnlineNewsPopularity.csv')\n",
    "data.columns=data.columns.str.replace(' ','')\n",
    "bins = [0, 1400, 10000, np.inf]\n",
    "data['category'] = pd.cut(data['shares'], bins, \n",
    "                          labels = ['Unpopular', 'Popular', 'Extremely_popular'])\n",
    "my_dict={'Unpopular':0,'Popular':1,'Extremely_popular':2}\n",
    "#transfer to 0,1,2\n",
    "data['category']=data['category'].map(my_dict)\n",
    "\n",
    "data.head()"
   ]
  },
  {
   "cell_type": "code",
   "execution_count": 8,
   "metadata": {
    "id": "vc3B8nHhfyZq"
   },
   "outputs": [],
   "source": [
    "features_selected=['n_unique_tokens',\n",
    " 'kw_max_avg',\n",
    " 'kw_avg_avg',\n",
    " 'self_reference_avg_sharess',\n",
    " 'n_non_stop_unique_tokens',\n",
    " 'kw_avg_min',\n",
    " 'self_reference_min_shares',\n",
    " 'LDA_00',\n",
    " 'LDA_02',\n",
    " 'data_channel_is_socmed',\n",
    " 'data_channel_is_tech',\n",
    " 'kw_min_min',\n",
    " 'kw_avg_max',\n",
    " 'kw_min_avg',\n",
    " 'average_token_length',\n",
    " 'is_weekend',\n",
    " 'data_channel_is_entertainment',\n",
    " 'n_non_stop_words',\n",
    " 'LDA_03',\n",
    " 'weekday_is_friday',\n",
    " 'kw_max_min',\n",
    " 'kw_max_max',\n",
    " 'num_imgs',\n",
    " 'LDA_04',\n",
    " 'weekday_is_saturday',\n",
    " 'LDA_01',\n",
    " 'global_subjectivity',\n",
    " 'weekday_is_sunday']"
   ]
  },
  {
   "cell_type": "code",
   "execution_count": 9,
   "metadata": {
    "id": "MeMeUcI0fyZr"
   },
   "outputs": [],
   "source": [
    "category_features = ['data_channel_is_entertainment', 'data_channel_is_bus',\n",
    "       'data_channel_is_socmed', 'data_channel_is_tech',\n",
    "       'data_channel_is_world','weekday_is_monday', 'weekday_is_tuesday',\n",
    "       'weekday_is_wednesday', 'weekday_is_thursday', 'weekday_is_friday',\n",
    "       'weekday_is_saturday', 'weekday_is_sunday', 'is_weekend']"
   ]
  },
  {
   "cell_type": "code",
   "execution_count": 10,
   "metadata": {
    "id": "WTXXevlLfyZr"
   },
   "outputs": [],
   "source": [
    "numerical_features = ['n_tokens_title', 'n_tokens_content',\n",
    "       'n_unique_tokens', 'n_non_stop_words', 'n_non_stop_unique_tokens',\n",
    "       'num_hrefs', 'num_self_hrefs', 'num_imgs', 'num_videos',\n",
    "       'average_token_length', 'num_keywords','kw_min_min', 'kw_max_min', 'kw_avg_min',\n",
    "       'kw_min_max', 'kw_max_max', 'kw_avg_max', 'kw_min_avg', 'kw_max_avg',\n",
    "       'kw_avg_avg', 'self_reference_min_shares', 'self_reference_max_shares',\n",
    "       'self_reference_avg_sharess','LDA_00',\n",
    "       'LDA_01', 'LDA_02', 'LDA_03', 'LDA_04', 'global_subjectivity',\n",
    "       'global_sentiment_polarity', 'global_rate_positive_words',\n",
    "       'global_rate_negative_words', 'rate_positive_words',\n",
    "       'rate_negative_words', 'avg_positive_polarity', 'min_positive_polarity',\n",
    "       'max_positive_polarity', 'avg_negative_polarity',\n",
    "       'min_negative_polarity', 'max_negative_polarity', 'title_subjectivity',\n",
    "       'title_sentiment_polarity', 'abs_title_subjectivity',\n",
    "       'abs_title_sentiment_polarity']"
   ]
  },
  {
   "cell_type": "code",
   "execution_count": 11,
   "metadata": {
    "id": "2lZswBJvfyZr"
   },
   "outputs": [],
   "source": [
    "numerical_features_selected = [i for i in numerical_features if i in features_selected]"
   ]
  },
  {
   "cell_type": "code",
   "execution_count": 12,
   "metadata": {
    "id": "R4QYE5vQfyZs"
   },
   "outputs": [],
   "source": [
    "X_train, X_test, y_train, y_test = train_test_split(data[features_selected],data['category'],\n",
    "                                                    stratify=data['category'],test_size=0.2,random_state=2021)"
   ]
  },
  {
   "cell_type": "code",
   "execution_count": 13,
   "metadata": {
    "id": "46FAbMi1fyZs"
   },
   "outputs": [],
   "source": [
    "X_train_norm = X_train.copy()\n",
    "X_test_norm = X_test.copy()\n",
    "scaler = StandardScaler()\n",
    "\n",
    "scaler.fit(X_train[numerical_features_selected])\n",
    "X_train_norm[numerical_features_selected] = scaler.transform(X_train[numerical_features_selected])\n",
    "X_test_norm[numerical_features_selected] = scaler.transform(X_test_norm[numerical_features_selected])"
   ]
  },
  {
   "cell_type": "code",
   "execution_count": 18,
   "metadata": {
    "id": "FypGWBeZfyZs"
   },
   "outputs": [],
   "source": [
    "#Transfer to onehotencoder\n",
    "encoder = OneHotEncoder()\n",
    "y_train_dummy = encoder.fit_transform(np.asarray(y_train).reshape(-1,1))\n",
    "\n",
    "X_train_norm=np.asarray(X_train_norm)\n",
    "X_test_norm=np.asarray(X_test_norm)\n",
    "y_train_dummy=y_train_dummy.toarray()"
   ]
  },
  {
   "cell_type": "code",
   "execution_count": 19,
   "metadata": {
    "id": "dWX9Cv2KfyZt"
   },
   "outputs": [],
   "source": [
    "#Model build\n",
    "def Nerual_Network_model(layer_af='tanh',num_layers=1,optimizer='adam'):\n",
    "    #sgd、adam、RMSprop\n",
    "    model=Sequential()\n",
    "    model.add(Dense(256,activation=layer_af))\n",
    "    for i in range(num_layers):\n",
    "        model.add(Dense(512,activation=layer_af))\n",
    "    model.add(Dense(256,activation=layer_af))\n",
    "    model.add(Dense(64,activation=layer_af))\n",
    "    model.add(Dense(3,activation='softmax'))\n",
    "    model.compile(loss='categorical_crossentropy',optimizer=optimizer, metrics=['accuracy'])\n",
    "    return model"
   ]
  },
  {
   "cell_type": "code",
   "execution_count": 20,
   "metadata": {
    "id": "vrwiE9v3fyZt"
   },
   "outputs": [],
   "source": [
    "#GridSearch CV\n",
    "clf=KerasClassifier(build_fn=Nerual_Network_model, verbose=0)\n",
    "batch_size = [10000,12000,15000]\n",
    "epochs = [50,100,150]\n",
    "search_spaces=dict(batch_size=batch_size,epochs=epochs)"
   ]
  },
  {
   "cell_type": "code",
   "execution_count": 21,
   "metadata": {
    "id": "YGD4R-rMfyZt"
   },
   "outputs": [],
   "source": [
    "def clf_grid_cv(clf,search_spaces):\n",
    "    grid = GridSearchCV(estimator=clf, param_grid=search_spaces,cv=5, n_jobs=-1)\n",
    "    grid_result=grid.fit(X_train_norm, y_train_dummy)\n",
    "    \n",
    "    print(\"Best: %f using %s\" % (grid_result.best_score_, grid_result.best_params_))\n",
    "    print('---------------------------------------------------------')\n",
    "    means = grid_result.cv_results_['mean_test_score']\n",
    "    stds = grid_result.cv_results_['std_test_score']\n",
    "    params = grid_result.cv_results_['params']\n",
    "    for mean, stdev, param in zip(means, stds, params):\n",
    "        print(\"Accuracy : %f ( Std : %f) with: %r\" % (mean, stdev, param))\n",
    "    return grid_result"
   ]
  },
  {
   "cell_type": "code",
   "execution_count": 22,
   "metadata": {
    "colab": {
     "base_uri": "https://localhost:8080/"
    },
    "id": "OGQ4CrXigUBZ",
    "outputId": "f6c82092-fc5d-4b4e-a152-936481e5e9e4",
    "scrolled": false
   },
   "outputs": [
    {
     "name": "stdout",
     "output_type": "stream",
     "text": [
      "Best: 0.617058 using {'batch_size': 15000, 'epochs': 50}\n",
      "---------------------------------------------------------\n",
      "Accuracy : 0.615608 ( Std : 0.007998) with: {'batch_size': 10000, 'epochs': 50}\n",
      "Accuracy : 0.614977 ( Std : 0.001029) with: {'batch_size': 10000, 'epochs': 100}\n",
      "Accuracy : 0.600883 ( Std : 0.005484) with: {'batch_size': 10000, 'epochs': 150}\n",
      "Accuracy : 0.613180 ( Std : 0.003674) with: {'batch_size': 12000, 'epochs': 50}\n",
      "Accuracy : 0.615009 ( Std : 0.004491) with: {'batch_size': 12000, 'epochs': 100}\n",
      "Accuracy : 0.606905 ( Std : 0.004750) with: {'batch_size': 12000, 'epochs': 150}\n",
      "Accuracy : 0.617058 ( Std : 0.004170) with: {'batch_size': 15000, 'epochs': 50}\n",
      "Accuracy : 0.615355 ( Std : 0.004964) with: {'batch_size': 15000, 'epochs': 100}\n",
      "Accuracy : 0.609175 ( Std : 0.007210) with: {'batch_size': 15000, 'epochs': 150}\n"
     ]
    }
   ],
   "source": [
    "grid_result=clf_grid_cv(clf,search_spaces)"
   ]
  },
  {
   "cell_type": "code",
   "execution_count": 26,
   "metadata": {
    "colab": {
     "base_uri": "https://localhost:8080/"
    },
    "id": "nYPXVyzU-GJU",
    "outputId": "aedb044b-1fb2-439d-ae1a-ae1f9cb30894"
   },
   "outputs": [
    {
     "name": "stdout",
     "output_type": "stream",
     "text": [
      "test score: 61.90%\n"
     ]
    }
   ],
   "source": [
    "#Test Score\n",
    "y_pred=grid_result.predict(X_test_norm)\n",
    "print('test score: %.2f%%' %(accuracy_score(y_test,y_pred)*100))"
   ]
  },
  {
   "cell_type": "code",
   "execution_count": null,
   "metadata": {},
   "outputs": [],
   "source": []
  }
 ],
 "metadata": {
  "accelerator": "GPU",
  "colab": {
   "collapsed_sections": [],
   "name": "Neural Network Tuning.ipynb",
   "provenance": []
  },
  "kernelspec": {
   "display_name": "Python 3",
   "language": "python",
   "name": "python3"
  },
  "language_info": {
   "codemirror_mode": {
    "name": "ipython",
    "version": 3
   },
   "file_extension": ".py",
   "mimetype": "text/x-python",
   "name": "python",
   "nbconvert_exporter": "python",
   "pygments_lexer": "ipython3",
   "version": "3.7.6"
  }
 },
 "nbformat": 4,
 "nbformat_minor": 1
}
