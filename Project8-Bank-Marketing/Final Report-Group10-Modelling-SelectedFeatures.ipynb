{
 "cells": [
  {
   "cell_type": "markdown",
   "metadata": {},
   "source": [
    "# Final Report - Group 10"
   ]
  },
  {
   "cell_type": "markdown",
   "metadata": {},
   "source": [
    "### Libaray"
   ]
  },
  {
   "cell_type": "code",
   "execution_count": 140,
   "metadata": {},
   "outputs": [],
   "source": [
    "import numpy as np\n",
    "import pandas as pd\n",
    "import matplotlib.pyplot as plt\n",
    "import seaborn as sns\n",
    "\n",
    "# Preprocessing\n",
    "from sklearn.preprocessing import MinMaxScaler, StandardScaler\n",
    "\n",
    "# Resampling\n",
    "from imblearn.over_sampling import SMOTE\n",
    "\n",
    "# Feature selection\n",
    "from sklearn.feature_selection import SelectFromModel\n",
    "\n",
    "# Models\n",
    "from sklearn.linear_model import LogisticRegression\n",
    "from sklearn.ensemble import RandomForestClassifier\n",
    "from sklearn.naive_bayes import GaussianNB\n",
    "from xgboost import XGBClassifier\n",
    "from lightgbm import LGBMClassifier\n",
    "from sklearn.ensemble import StackingClassifier\n",
    "\n",
    "# Tuning\n",
    "from hyperopt import STATUS_OK, Trials, fmin, hp, tpe\n",
    "from hyperopt.pyll import scope\n",
    "\n",
    "# Evaluation\n",
    "from sklearn.model_selection import train_test_split\n",
    "from sklearn.metrics import (confusion_matrix, auc,\n",
    "                             roc_curve, roc_auc_score, classification_report, f1_score)\n",
    "from sklearn.model_selection import GridSearchCV\n",
    "\n",
    "\n",
    "pd.options.display.max_columns = 999\n",
    "%matplotlib inline\n",
    "color = sns.color_palette()\n",
    "sns.set_style('darkgrid')"
   ]
  },
  {
   "cell_type": "markdown",
   "metadata": {},
   "source": [
    "## Bookmark\n",
    "\n",
    "<a href=#p0>0. Feature Selection</a>\n",
    "\n",
    "<a href=#p1>1. Modeling - Baseline</a>\n",
    "\n",
    "<a href=#p2>2. Modeling - Tuning</a>\n",
    "\n",
    "<a href=#p3>3. Modeling - Stacking</a>\n",
    "\n",
    "<a href=#p4>4. Experiment on Feature Selection</a>"
   ]
  },
  {
   "cell_type": "markdown",
   "metadata": {},
   "source": [
    "## Read data"
   ]
  },
  {
   "cell_type": "code",
   "execution_count": 2,
   "metadata": {},
   "outputs": [],
   "source": [
    "train = pd.read_csv(\"train_set.csv\",index_col=0)\n",
    "test = pd.read_csv(\"test_set.csv\",index_col=0)"
   ]
  },
  {
   "cell_type": "code",
   "execution_count": 3,
   "metadata": {},
   "outputs": [
    {
     "data": {
      "text/html": [
       "<div>\n",
       "<style scoped>\n",
       "    .dataframe tbody tr th:only-of-type {\n",
       "        vertical-align: middle;\n",
       "    }\n",
       "\n",
       "    .dataframe tbody tr th {\n",
       "        vertical-align: top;\n",
       "    }\n",
       "\n",
       "    .dataframe thead th {\n",
       "        text-align: right;\n",
       "    }\n",
       "</style>\n",
       "<table border=\"1\" class=\"dataframe\">\n",
       "  <thead>\n",
       "    <tr style=\"text-align: right;\">\n",
       "      <th></th>\n",
       "      <th>Class</th>\n",
       "      <th>Percentage</th>\n",
       "    </tr>\n",
       "  </thead>\n",
       "  <tbody>\n",
       "    <tr>\n",
       "      <th>0</th>\n",
       "      <td>0</td>\n",
       "      <td>0.887343</td>\n",
       "    </tr>\n",
       "    <tr>\n",
       "      <th>1</th>\n",
       "      <td>1</td>\n",
       "      <td>0.112657</td>\n",
       "    </tr>\n",
       "  </tbody>\n",
       "</table>\n",
       "</div>"
      ],
      "text/plain": [
       "   Class  Percentage\n",
       "0      0    0.887343\n",
       "1      1    0.112657"
      ]
     },
     "execution_count": 3,
     "metadata": {},
     "output_type": "execute_result"
    }
   ],
   "source": [
    "unique, counts = np.unique(train.y, return_counts=True)\n",
    "cnt_dict = dict(zip(unique, counts/train.shape[0]))\n",
    "pd.DataFrame(list(cnt_dict.items()), columns=['Class', 'Percentage'])"
   ]
  },
  {
   "cell_type": "code",
   "execution_count": 4,
   "metadata": {},
   "outputs": [],
   "source": [
    "def drop_cols(df):\n",
    "    cols = ['pdays','previous']\n",
    "    df.drop(cols,axis=1,inplace=True)\n",
    "    return df"
   ]
  },
  {
   "cell_type": "code",
   "execution_count": 5,
   "metadata": {},
   "outputs": [],
   "source": [
    "train = drop_cols(train)\n",
    "test = drop_cols(test)"
   ]
  },
  {
   "cell_type": "code",
   "execution_count": 6,
   "metadata": {},
   "outputs": [
    {
     "name": "stdout",
     "output_type": "stream",
     "text": [
      "(28831, 65)\n",
      "(12357, 65)\n"
     ]
    }
   ],
   "source": [
    "X_train = train.drop('y',axis=1)\n",
    "y_train = train['y']\n",
    "X_test = test.drop('y',axis=1)\n",
    "y_test = test['y']\n",
    "\n",
    "print(X_train.shape)\n",
    "print(X_test.shape)"
   ]
  },
  {
   "cell_type": "markdown",
   "metadata": {},
   "source": [
    "<a name='p0' /></a>\n",
    "## 0. Feature Selection"
   ]
  },
  {
   "cell_type": "markdown",
   "metadata": {},
   "source": [
    "#### Use multiple models to select key features by importance"
   ]
  },
  {
   "cell_type": "code",
   "execution_count": 7,
   "metadata": {},
   "outputs": [
    {
     "name": "stdout",
     "output_type": "stream",
     "text": [
      "Logistic: done\n",
      "RandomForestClassifier: done\n",
      "XGBooostClassifier: done\n",
      "LightGBMClassifier: done\n"
     ]
    }
   ],
   "source": [
    "models = {\n",
    "    \"Logistic\": LogisticRegression(solver='liblinear'),\n",
    "    \n",
    "    \"RandomForestClassifier\":RandomForestClassifier(),\n",
    "\n",
    "    \"XGBooostClassifier\": XGBClassifier(),\n",
    "    \n",
    "    \"LightGBMClassifier\": LGBMClassifier()\n",
    "\n",
    "}\n",
    "\n",
    "\n",
    "feature_selection = {}\n",
    "feature_names = np.array(X_train.columns)\n",
    "\n",
    "for model_name in models:\n",
    "    model = models[model_name]\n",
    "    selector = SelectFromModel(estimator=model,threshold=-1, max_features=30).fit(X_train, y_train)\n",
    "    feature_selection[model_name] = feature_names[selector.get_support()]\n",
    "    print(\"{}{}{}\".format(model_name, \": \", 'done'))"
   ]
  },
  {
   "cell_type": "markdown",
   "metadata": {},
   "source": [
    "#### select features using model votes >=2"
   ]
  },
  {
   "cell_type": "code",
   "execution_count": 8,
   "metadata": {},
   "outputs": [],
   "source": [
    "feature_count = dict(zip(feature_names,np.zeros(len(feature_names))))\n",
    "for i in feature_names:\n",
    "    for j in feature_selection:\n",
    "        if i in feature_selection[j]:\n",
    "            feature_count[i]+=1\n",
    "feature_count = pd.Series(feature_count).sort_values(ascending=False)"
   ]
  },
  {
   "cell_type": "code",
   "execution_count": 12,
   "metadata": {
    "scrolled": false
   },
   "outputs": [
    {
     "data": {
      "text/plain": [
       "['education',\n",
       " 'poutcome_success',\n",
       " 'duration',\n",
       " 'emp.var.rate',\n",
       " 'cons.price.idx',\n",
       " 'cons.conf.idx',\n",
       " 'euribor3m',\n",
       " 'nr.employed',\n",
       " 'DJI_monthly_adjclose',\n",
       " 'job_1.0',\n",
       " 'CPI_DJI',\n",
       " 'campaign',\n",
       " 'age_bin',\n",
       " 'month_oct',\n",
       " 'poutcome_nonexistent',\n",
       " 'day_of_week_mon',\n",
       " 'day_of_week_fri',\n",
       " 'month_may',\n",
       " 'contact',\n",
       " 'job_0.0',\n",
       " 'kmeans_avgy_5',\n",
       " 'marital_2.0',\n",
       " 'class_kmeans_4',\n",
       " 'effect_euribor3m',\n",
       " 'marital_1.0',\n",
       " 'pdays_999_or_not',\n",
       " 'month_mar',\n",
       " 'month_sep',\n",
       " 'job_9.0',\n",
       " 'day_of_week_thu',\n",
       " 'day_of_week_tue',\n",
       " 'day_of_week_wed',\n",
       " 'liability',\n",
       " 'education_cluster_avgy',\n",
       " 'previous_zero_or_not',\n",
       " 'job_5.0',\n",
       " 'housing']"
      ]
     },
     "execution_count": 12,
     "metadata": {},
     "output_type": "execute_result"
    }
   ],
   "source": [
    "feature_count = dict(zip(feature_names,np.zeros(len(feature_names))))\n",
    "for i in feature_names:\n",
    "    for j in feature_selection:\n",
    "        if i in feature_selection[j]:\n",
    "            feature_count[i]+=1\n",
    "feature_count = pd.Series(feature_count).sort_values(ascending=False)\n",
    "\n",
    "# select by feature count\n",
    "features_selected = feature_count[feature_count>=2].index.tolist()\n",
    "features_selected"
   ]
  },
  {
   "cell_type": "code",
   "execution_count": 7,
   "metadata": {},
   "outputs": [],
   "source": [
    "features_selected=['education',\n",
    " 'poutcome_success',\n",
    " 'duration',\n",
    " 'emp.var.rate',\n",
    " 'cons.price.idx',\n",
    " 'cons.conf.idx',\n",
    " 'euribor3m',\n",
    " 'nr.employed',\n",
    " 'DJI_monthly_adjclose',\n",
    " 'job_1.0',\n",
    " 'CPI_DJI',\n",
    " 'campaign',\n",
    " 'age_bin',\n",
    " 'month_oct',\n",
    " 'poutcome_nonexistent',\n",
    " 'day_of_week_mon',\n",
    " 'day_of_week_fri',\n",
    " 'month_may',\n",
    " 'contact',\n",
    " 'job_0.0',\n",
    " 'kmeans_avgy_5',\n",
    " 'marital_2.0',\n",
    " 'class_kmeans_4',\n",
    " 'effect_euribor3m',\n",
    " 'marital_1.0',\n",
    " 'pdays_999_or_not',\n",
    " 'month_mar',\n",
    " 'month_sep',\n",
    " 'job_9.0',\n",
    " 'day_of_week_thu',\n",
    " 'day_of_week_tue',\n",
    " 'day_of_week_wed',\n",
    " 'liability',\n",
    " 'education_cluster_avgy',\n",
    " 'previous_zero_or_not',\n",
    " 'job_5.0',\n",
    " 'housing']"
   ]
  },
  {
   "cell_type": "code",
   "execution_count": 9,
   "metadata": {},
   "outputs": [],
   "source": [
    "X_train_selected = train[features_selected]\n",
    "X_test_selected = test[features_selected]"
   ]
  },
  {
   "cell_type": "markdown",
   "metadata": {},
   "source": [
    "<a name='p1' /></a>\n",
    "## 1. Modeling - Baseline"
   ]
  },
  {
   "cell_type": "markdown",
   "metadata": {},
   "source": [
    "### SMOTE"
   ]
  },
  {
   "cell_type": "code",
   "execution_count": 13,
   "metadata": {},
   "outputs": [],
   "source": [
    "smote = SMOTE()\n",
    "X_train_selected_sm ote, y_train_smote = smote.fit_resample(X_train_selected, y_train)"
   ]
  },
  {
   "cell_type": "code",
   "execution_count": 62,
   "metadata": {},
   "outputs": [],
   "source": [
    "def Clf_train(classifier):    \n",
    "    # classifier\n",
    "    clf = classifier\n",
    "    # fit data\n",
    "    clf.fit(X_train_selected_smote, y_train_smote)\n",
    "    # get predictions\n",
    "    y_pred = clf.predict(X_test_selected) # get predicted class\n",
    "    y_proba = clf.predict_proba(X_test_selected) # get predicted prob.\n",
    "        \n",
    "    # generate confusion matrix\n",
    "    cm = pd.DataFrame(confusion_matrix(y_true=y_test, y_pred=y_pred), \\\n",
    "                      index=['Actual: 0', 'Actual: 1'], \\\n",
    "                      columns=['Pred: 0', 'Pred: 1'])\n",
    "    \n",
    "    # auc\n",
    "    fpr, tpr, thresholds = roc_curve(y_true=y_test, y_score=y_proba[:,1])\n",
    "    auc_score = auc(fpr, tpr)\n",
    "    \n",
    "    # f1-score\n",
    "    f1 = f1_score(y_true=y_test, y_pred=y_pred, average='macro')\n",
    "    \n",
    "    return cm, auc_score, f1"
   ]
  },
  {
   "cell_type": "markdown",
   "metadata": {},
   "source": [
    "### Baseline - Naive Bayesian"
   ]
  },
  {
   "cell_type": "code",
   "execution_count": 63,
   "metadata": {},
   "outputs": [
    {
     "name": "stdout",
     "output_type": "stream",
     "text": [
      "Confusion Matrix: \n",
      "\n",
      "            Pred: 0  Pred: 1\n",
      "Actual: 0     7663     3302\n",
      "Actual: 1      161     1231\n",
      "\n",
      "\n",
      "AUC Score: 0.8986973966277234\n",
      "f1 Score: 0.6156087287808447\n"
     ]
    }
   ],
   "source": [
    "nb = GaussianNB()\n",
    "\n",
    "# build model\n",
    "cm_nb, auc_nb, f1_nb = Clf_train(nb)\n",
    "\n",
    "print(\"Confusion Matrix: \\n\\n\", cm_nb)\n",
    "print(\"\\n\")\n",
    "print(f\"AUC Score: {auc_nb}\")\n",
    "print(f\"f1 Score: {f1_nb}\")"
   ]
  },
  {
   "cell_type": "markdown",
   "metadata": {},
   "source": [
    "###  Logistic Regression"
   ]
  },
  {
   "cell_type": "code",
   "execution_count": 64,
   "metadata": {},
   "outputs": [
    {
     "name": "stdout",
     "output_type": "stream",
     "text": [
      "Confusion Matrix: \n",
      "\n",
      "            Pred: 0  Pred: 1\n",
      "Actual: 0     8950     2015\n",
      "Actual: 1      458      934\n",
      "\n",
      "\n",
      "AUC Score: 0.8455806353549171\n",
      "f1 Score: 0.6544647235756663\n"
     ]
    }
   ],
   "source": [
    "lr = LogisticRegression(solver='lbfgs', max_iter=100)\n",
    "\n",
    "# build model\n",
    "cm_lr, auc_lr, f1_lr = Clf_train(lr)\n",
    "\n",
    "print(\"Confusion Matrix: \\n\\n\", cm_lr)\n",
    "print(\"\\n\")\n",
    "print(f\"AUC Score: {auc_lr}\")\n",
    "print(f\"f1 Score: {f1_lr}\")"
   ]
  },
  {
   "cell_type": "markdown",
   "metadata": {},
   "source": [
    "###  Random Forest"
   ]
  },
  {
   "cell_type": "code",
   "execution_count": 65,
   "metadata": {},
   "outputs": [
    {
     "name": "stdout",
     "output_type": "stream",
     "text": [
      "Confusion Matrix: \n",
      "\n",
      "            Pred: 0  Pred: 1\n",
      "Actual: 0    10480      485\n",
      "Actual: 1      632      760\n",
      "\n",
      "\n",
      "AUC Score: 0.9381300087530333\n",
      "f1 Score: 0.7629084737702868\n"
     ]
    }
   ],
   "source": [
    "rf = RandomForestClassifier()\n",
    "\n",
    "# build model\n",
    "cm_rf, auc_rf, f1_rf = Clf_train(rf)\n",
    "\n",
    "print(\"Confusion Matrix: \\n\\n\", cm_rf)\n",
    "print(\"\\n\")\n",
    "print(f\"AUC Score: {auc_rf}\")\n",
    "print(f\"f1 Score: {f1_rf}\")"
   ]
  },
  {
   "cell_type": "markdown",
   "metadata": {},
   "source": [
    "### XGBoost"
   ]
  },
  {
   "cell_type": "code",
   "execution_count": 66,
   "metadata": {
    "scrolled": true
   },
   "outputs": [
    {
     "name": "stdout",
     "output_type": "stream",
     "text": [
      "Confusion Matrix: \n",
      "\n",
      "            Pred: 0  Pred: 1\n",
      "Actual: 0    10506      459\n",
      "Actual: 1      628      764\n",
      "\n",
      "\n",
      "AUC Score: 0.9446283498697527\n",
      "f1 Score: 0.7675667388287557\n"
     ]
    }
   ],
   "source": [
    "xgb = XGBClassifier()\n",
    "\n",
    "# build model\n",
    "cm_xgb, auc_xgb, f1_xgb = Clf_train(xgb)\n",
    "\n",
    "print(\"Confusion Matrix: \\n\\n\", cm_xgb)\n",
    "print(\"\\n\")\n",
    "print(f\"AUC Score: {auc_xgb}\")\n",
    "print(f\"f1 Score: {f1_xgb}\")"
   ]
  },
  {
   "cell_type": "markdown",
   "metadata": {},
   "source": [
    "### LightGBM"
   ]
  },
  {
   "cell_type": "code",
   "execution_count": 67,
   "metadata": {},
   "outputs": [
    {
     "name": "stdout",
     "output_type": "stream",
     "text": [
      "Confusion Matrix: \n",
      "\n",
      "            Pred: 0  Pred: 1\n",
      "Actual: 0    10507      458\n",
      "Actual: 1      565      827\n",
      "\n",
      "\n",
      "AUC Score: 0.9476461153828011\n",
      "f1 Score: 0.7857169409907938\n"
     ]
    }
   ],
   "source": [
    "lgb = LGBMClassifier()\n",
    "\n",
    "# build model\n",
    "cm_lgb, auc_lgb, f1_lgb = Clf_train(lgb)\n",
    "\n",
    "print(\"Confusion Matrix: \\n\\n\", cm_lgb)\n",
    "print(\"\\n\")\n",
    "print(f\"AUC Score: {auc_lgb}\")\n",
    "print(f\"f1 Score: {f1_lgb}\")"
   ]
  },
  {
   "cell_type": "markdown",
   "metadata": {},
   "source": [
    "<a name='p2' /></a>\n",
    "## 2. Modeling - Tuning\n"
   ]
  },
  {
   "cell_type": "markdown",
   "metadata": {},
   "source": [
    "#### NB"
   ]
  },
  {
   "cell_type": "code",
   "execution_count": 50,
   "metadata": {},
   "outputs": [
    {
     "data": {
      "text/plain": [
       "{'var_smoothing': 1.873817422860387e-09}"
      ]
     },
     "execution_count": 50,
     "metadata": {},
     "output_type": "execute_result"
    }
   ],
   "source": [
    "nb_classifier = GaussianNB()\n",
    "\n",
    "params_NB = {'var_smoothing': np.logspace(0,-9, num=100)}\n",
    "\n",
    "gs_NB = GridSearchCV(estimator=nb_classifier, \n",
    "                 param_grid=params_NB, \n",
    "                 cv=5,\n",
    "                 n_jobs = -1, \n",
    "                 scoring='roc_auc') \n",
    "\n",
    "gs_NB.fit(X_train_selected_smote, y_train_smote)\n",
    "\n",
    "gs_NB.best_params_"
   ]
  },
  {
   "cell_type": "code",
   "execution_count": 70,
   "metadata": {},
   "outputs": [
    {
     "name": "stdout",
     "output_type": "stream",
     "text": [
      "Confusion Matrix: \n",
      "\n",
      "            Pred: 0  Pred: 1\n",
      "Actual: 0     7647     3318\n",
      "Actual: 1      145     1247\n",
      "\n",
      "\n",
      "AUC Score: 0.9002948907443222\n",
      "f1 Score: 0.6170213537155966\n"
     ]
    }
   ],
   "source": [
    "nb = GaussianNB(var_smoothing=1.873817422860387e-09)\n",
    "\n",
    "# build model\n",
    "cm_nb, auc_nb, f1_nb = Clf_train(nb)\n",
    "\n",
    "print(\"Confusion Matrix: \\n\\n\", cm_nb)\n",
    "print(\"\\n\")\n",
    "print(f\"AUC Score: {auc_nb}\")\n",
    "print(f\"f1 Score: {f1_nb}\")"
   ]
  },
  {
   "cell_type": "markdown",
   "metadata": {},
   "source": [
    "#### LR"
   ]
  },
  {
   "cell_type": "code",
   "execution_count": 53,
   "metadata": {},
   "outputs": [
    {
     "data": {
      "text/plain": [
       "{'C': 0.01, 'max_iter': 1000, 'penalty': 'l1', 'solver': 'liblinear'}"
      ]
     },
     "execution_count": 53,
     "metadata": {},
     "output_type": "execute_result"
    }
   ],
   "source": [
    "lr_classifier = LogisticRegression()\n",
    "\n",
    "params_LR = {\n",
    "            'solver': ['liblinear'],\n",
    "            'penalty': ['l2','l1'],\n",
    "            'C': [100, 10, 1.0, 0.1, 0.01],\n",
    "            'max_iter':[1000]}\n",
    "\n",
    "gs_LR = GridSearchCV(estimator=lr_classifier, \n",
    "                 param_grid=params_LR, \n",
    "                 cv=5,\n",
    "                 n_jobs = -1, \n",
    "                 scoring='roc_auc') \n",
    "\n",
    "gs_LR.fit(X_train_selected_smote, y_train_smote)\n",
    "\n",
    "gs_LR.best_params_"
   ]
  },
  {
   "cell_type": "code",
   "execution_count": 71,
   "metadata": {},
   "outputs": [
    {
     "name": "stdout",
     "output_type": "stream",
     "text": [
      "Confusion Matrix: \n",
      "\n",
      "            Pred: 0  Pred: 1\n",
      "Actual: 0    10405      560\n",
      "Actual: 1      619      773\n",
      "\n",
      "\n",
      "AUC Score: 0.9214486008249866\n",
      "f1 Score: 0.7568608657957001\n"
     ]
    }
   ],
   "source": [
    "\n",
    "lr = LogisticRegression(C= 0.1, max_iter= 1000, penalty= 'l1', solver= 'liblinear')\n",
    "\n",
    "# build model\n",
    "cm_lr, auc_lr, f1_lr = Clf_train(lr)\n",
    "\n",
    "print(\"Confusion Matrix: \\n\\n\", cm_lr)\n",
    "print(\"\\n\")\n",
    "print(f\"AUC Score: {auc_lr}\")\n",
    "print(f\"f1 Score: {f1_lr}\")"
   ]
  },
  {
   "cell_type": "markdown",
   "metadata": {},
   "source": [
    "####    RF"
   ]
  },
  {
   "cell_type": "code",
   "execution_count": 125,
   "metadata": {},
   "outputs": [
    {
     "data": {
      "text/plain": [
       "{'max_depth': 8,\n",
       " 'max_features': 14,\n",
       " 'min_samples_leaf': 5,\n",
       " 'min_samples_split': 2,\n",
       " 'n_estimators': 600}"
      ]
     },
     "execution_count": 125,
     "metadata": {},
     "output_type": "execute_result"
    }
   ],
   "source": [
    "rf_classifier = RandomForestClassifier()\n",
    "\n",
    "params_RF = {\n",
    "     #'n_estimators': [380, 430, 480],\n",
    "     #'max_depth':[3, 6], \n",
    "     #'min_samples_split':[3, 6],\n",
    "     #'min_samples_leaf':[3, 5],\n",
    "     #'max_features':[14, 17, 20]\n",
    "     'n_estimators': [400,500,600],#300,400,500\n",
    "     'max_depth':[4,8], #3,4 \n",
    "     'min_samples_split':[2,3], #2,3\n",
    "     'min_samples_leaf':[4,5],#4,5\n",
    "     'max_features':[14,16] #14,16\n",
    "}\n",
    "\n",
    "gs_RF = GridSearchCV(estimator=rf_classifier, \n",
    "                 param_grid=params_RF, \n",
    "                 cv=5,\n",
    "                 n_jobs = -1, \n",
    "                 scoring='roc_auc') \n",
    "\n",
    "gs_RF.fit(X_train_selected_smote, y_train_smote)\n",
    "\n",
    "gs_RF.best_params_"
   ]
  },
  {
   "cell_type": "code",
   "execution_count": 129,
   "metadata": {},
   "outputs": [
    {
     "name": "stdout",
     "output_type": "stream",
     "text": [
      "Confusion Matrix: \n",
      "\n",
      "            Pred: 0  Pred: 1\n",
      "Actual: 0     9788     1177\n",
      "Actual: 1      230     1162\n",
      "\n",
      "\n",
      "AUC Score: 0.9416742666058671\n",
      "f1 Score: 0.7779175118891475\n"
     ]
    }
   ],
   "source": [
    "rf_para = gs_RF.best_params_\n",
    "\n",
    "rf = RandomForestClassifier(\n",
    "    n_estimators = rf_para['n_estimators'],\n",
    "    max_depth = rf_para['max_depth'],\n",
    "    #min_samples_split = rf_para['min_samples_split'],\n",
    "    #min_samples_leaf = rf_para['min_samples_leaf'],\n",
    "    max_features = rf_para['max_features']\n",
    ")\n",
    "\n",
    "# build model\n",
    "cm_rf, auc_rf, f1_rf = Clf_train(rf)\n",
    "\n",
    "print(\"Confusion Matrix: \\n\\n\", cm_rf)\n",
    "print(\"\\n\")\n",
    "print(f\"AUC Score: {auc_rf}\")\n",
    "print(f\"f1 Score: {f1_rf}\")"
   ]
  },
  {
   "cell_type": "markdown",
   "metadata": {},
   "source": [
    "#### XGB"
   ]
  },
  {
   "cell_type": "code",
   "execution_count": 108,
   "metadata": {},
   "outputs": [],
   "source": [
    "xgb_classifier = XGBClassifier(eta = 0.1)\n",
    "\n",
    "params_XGB = {\n",
    "    'reg_alpha':[1e-5,1e-2],\n",
    "    'subsample':[0.5,0.8],\n",
    "    'colsample_bytree':[0.5,0.8],\n",
    "    'gamma':[1.3],\n",
    "    'max_depth':[4,8,10],\n",
    "    'min_child_weight':[1,3],\n",
    "    'n_estimators': [120,150]  \n",
    "}\n",
    "\n",
    "gs_XGB = GridSearchCV(estimator=xgb_classifier, \n",
    "                 param_grid=params_XGB, \n",
    "                 cv=5,\n",
    "                 n_jobs = -1, \n",
    "                 scoring='roc_auc') \n",
    "\n",
    "gs_XGB.fit(X_train_selected_smote, y_train_smote)\n",
    "\n",
    "xgb_para = gs_XGB.best_params_"
   ]
  },
  {
   "cell_type": "code",
   "execution_count": 119,
   "metadata": {},
   "outputs": [
    {
     "data": {
      "text/plain": [
       "{'colsample_bytree': 0.5,\n",
       " 'gamma': 1,\n",
       " 'max_depth': 10,\n",
       " 'min_child_weight': 1,\n",
       " 'n_estimators': 120,\n",
       " 'reg_alpha': 0.01,\n",
       " 'subsample': 0.5}"
      ]
     },
     "execution_count": 119,
     "metadata": {},
     "output_type": "execute_result"
    }
   ],
   "source": [
    "xgb_para"
   ]
  },
  {
   "cell_type": "code",
   "execution_count": 118,
   "metadata": {},
   "outputs": [
    {
     "name": "stdout",
     "output_type": "stream",
     "text": [
      "Confusion Matrix: \n",
      "\n",
      "            Pred: 0  Pred: 1\n",
      "Actual: 0    10483      482\n",
      "Actual: 1      591      801\n",
      "\n",
      "\n",
      "AUC Score: 0.9450005503404248\n",
      "f1 Score: 0.7750960425719402\n"
     ]
    }
   ],
   "source": [
    "xgb = XGBClassifier(\n",
    "    eta = 0.1,\n",
    "    n_estimators = xgb_para['n_estimators'],\n",
    "    #max_depth = xgb_para['max_depth'],\n",
    "    #min_child_weight = xgb_para['min_child_weight'],\n",
    "    gamma = xgb_para['gamma'],\n",
    "    subsample = xgb_para['subsample'],\n",
    "    colsample_bytree = xgb_para['colsample_bytree'],\n",
    "    reg_alpha = xgb_para['reg_alpha']\n",
    ")\n",
    "\n",
    "# build model\n",
    "cm_xgb,auc_xgb,f1_xgb = Clf_train(xgb)\n",
    "\n",
    "print(\"Confusion Matrix: \\n\\n\", cm_xgb)\n",
    "print(\"\\n\")\n",
    "print(f\"AUC Score: {auc_xgb}\")\n",
    "print(f\"f1 Score: {f1_xgb}\")"
   ]
  },
  {
   "cell_type": "markdown",
   "metadata": {},
   "source": [
    "#### LGBM"
   ]
  },
  {
   "cell_type": "code",
   "execution_count": 136,
   "metadata": {},
   "outputs": [
    {
     "data": {
      "text/plain": [
       "{'learning_rate': 0.1, 'reg_alpha': 0.4, 'reg_lambda': 0.7}"
      ]
     },
     "execution_count": 136,
     "metadata": {},
     "output_type": "execute_result"
    }
   ],
   "source": [
    "lgbm_classifier = LGBMClassifier()\n",
    "\n",
    "params_lgbm = {\n",
    "    'learning_rate' : [0.05,0.1],\n",
    "    #'max_depth':[6,10],\n",
    "    #'min_child_samples': [23, 26],\n",
    "    #'feature_fraction': [0.3, 0.4],\n",
    "    #'num_leaves': [100,150],\n",
    "    #'subsample': [0.4, 0.8], \n",
    "    #'colsample_bytree': [0.4, 0.6],\n",
    "    'reg_alpha':[0.4,0.7],\n",
    "    'reg_lambda':[0.4,0.7]\n",
    "\n",
    "}\n",
    "\n",
    "gs_lgbm = GridSearchCV(estimator=lgbm_classifier, \n",
    "                 param_grid=params_lgbm, \n",
    "                 cv=5,\n",
    "                 n_jobs = -1, \n",
    "                 scoring='roc_auc') \n",
    "\n",
    "gs_lgbm.fit(X_train_selected_smote, y_train_smote)\n",
    "\n",
    "lgbm_para = gs_lgbm.best_params_\n",
    "lgbm_para"
   ]
  },
  {
   "cell_type": "code",
   "execution_count": 137,
   "metadata": {},
   "outputs": [
    {
     "name": "stdout",
     "output_type": "stream",
     "text": [
      "Confusion Matrix: \n",
      "\n",
      "            Pred: 0  Pred: 1\n",
      "Actual: 0    10489      476\n",
      "Actual: 1      552      840\n",
      "\n",
      "\n",
      "AUC Score: 0.9479568611726967\n",
      "f1 Score: 0.7868347574335508\n"
     ]
    }
   ],
   "source": [
    "lgbm = LGBMClassifier(\n",
    "    learning_rate = lgbm_para['learning_rate'],\n",
    "    #colsample_bytree = lgbm_para['colsample_bytree'],\n",
    "    #feature_fraction = lgbm_para['feature_fraction'],\n",
    "    #num_leaves = lgbm_para['num_leaves'],\n",
    "    #subsample = lgbm_para['subsample'],\n",
    "    #max_depth = lgbm_para['max_depth'],\n",
    "    #min_child_samples = lgbm_para['min_child_samples'],\n",
    "    reg_alpha = lgbm_para['reg_alpha'],\n",
    "    reg_lambda = lgbm_para['reg_lambda']\n",
    ")\n",
    "\n",
    "cm_lgbm, auc_lgbm,f1_lgbm = Clf_train(lgbm)\n",
    "\n",
    "print(\"Confusion Matrix: \\n\\n\", cm_lgbm)\n",
    "print(\"\\n\")\n",
    "print(f\"AUC Score: {auc_lgbm}\")\n",
    "print(f\"f1 Score: {f1_lgbm}\")"
   ]
  },
  {
   "cell_type": "markdown",
   "metadata": {},
   "source": [
    "<a name='p3' /></a>\n",
    "## 3. Modeling - Stacking"
   ]
  },
  {
   "cell_type": "code",
   "execution_count": 141,
   "metadata": {},
   "outputs": [],
   "source": [
    "# compare ensemble to each baseline classifier\n",
    "# get a stacking ensemble of models\n",
    "def get_model():\n",
    "    # define the level-0 base models with tuned paramters\n",
    "    level0 = []\n",
    "    level0.append(('lr', lr))\n",
    "    level0.append(('nb', nb))\n",
    "    level0.append(('rf', rf))\n",
    "    level0.append(('xgb', xgb))\n",
    "    level0.append(('lgbm', lgbm))\n",
    "    # define level-1 meta learner model\n",
    "    level1 = LogisticRegression()\n",
    "    # define the stacking ensemble\n",
    "    model = StackingClassifier(estimators=level0, final_estimator=level1)\n",
    "    return model"
   ]
  },
  {
   "cell_type": "code",
   "execution_count": 142,
   "metadata": {},
   "outputs": [
    {
     "name": "stdout",
     "output_type": "stream",
     "text": [
      "Confusion Matrix: \n",
      "\n",
      "            Pred: 0  Pred: 1\n",
      "Actual: 0    10073      892\n",
      "Actual: 1      312     1080\n",
      "\n",
      "\n",
      "AUC Score: 0.9436705609803396\n",
      "f1 Score: 0.7928496520535662\n"
     ]
    }
   ],
   "source": [
    "stacking_model = get_model()\n",
    "#stack = stacking_model.fit(X_train_smote, y_train_smote)\n",
    "cm_stk, auc_stk, f1_stk = Clf_train(stacking_model)\n",
    "\n",
    "print(\"Confusion Matrix: \\n\\n\", cm_stk)\n",
    "print(\"\\n\")\n",
    "print(f\"AUC Score: {auc_stk}\")\n",
    "print(f\"f1 Score: {f1_stk}\")"
   ]
  },
  {
   "cell_type": "markdown",
   "metadata": {},
   "source": [
    "<a name='p4' /></a>\n",
    "## 4. Experiment on Feature Selection"
   ]
  },
  {
   "cell_type": "markdown",
   "metadata": {},
   "source": [
    "#### select features using model votes >=3"
   ]
  },
  {
   "cell_type": "code",
   "execution_count": 155,
   "metadata": {
    "scrolled": false
   },
   "outputs": [
    {
     "data": {
      "text/plain": [
       "['education',\n",
       " 'poutcome_success',\n",
       " 'duration',\n",
       " 'emp.var.rate',\n",
       " 'cons.price.idx',\n",
       " 'cons.conf.idx',\n",
       " 'euribor3m',\n",
       " 'nr.employed',\n",
       " 'DJI_monthly_adjclose',\n",
       " 'job_1.0',\n",
       " 'CPI_DJI',\n",
       " 'campaign',\n",
       " 'age_bin',\n",
       " 'month_oct',\n",
       " 'poutcome_nonexistent',\n",
       " 'day_of_week_mon',\n",
       " 'day_of_week_fri',\n",
       " 'month_may',\n",
       " 'contact',\n",
       " 'job_0.0',\n",
       " 'kmeans_avgy_5',\n",
       " 'marital_2.0',\n",
       " 'class_kmeans_4',\n",
       " 'effect_euribor3m',\n",
       " 'marital_1.0']"
      ]
     },
     "execution_count": 155,
     "metadata": {},
     "output_type": "execute_result"
    }
   ],
   "source": [
    "# select by feature count\n",
    "features_selected_vote_3 = feature_count[feature_count>=3].index.tolist()\n",
    "features_selected_vote_3"
   ]
  },
  {
   "cell_type": "code",
   "execution_count": 156,
   "metadata": {},
   "outputs": [],
   "source": [
    "features_selected_vote_3 = ['education',\n",
    " 'poutcome_success',\n",
    " 'duration',\n",
    " 'emp.var.rate',\n",
    " 'cons.price.idx',\n",
    " 'cons.conf.idx',\n",
    " 'euribor3m',\n",
    " 'nr.employed',\n",
    " 'DJI_monthly_adjclose',\n",
    " 'job_1.0',\n",
    " 'CPI_DJI',\n",
    " 'campaign',\n",
    " 'age_bin',\n",
    " 'month_oct',\n",
    " 'poutcome_nonexistent',\n",
    " 'day_of_week_mon',\n",
    " 'day_of_week_fri',\n",
    " 'month_may',\n",
    " 'contact',\n",
    " 'job_0.0',\n",
    " 'kmeans_avgy_5',\n",
    " 'marital_2.0',\n",
    " 'class_kmeans_4',\n",
    " 'effect_euribor3m',\n",
    " 'marital_1.0']\n",
    "\n",
    "X_train_selected_vote_3 = train[features_selected_vote_3]\n",
    "X_test_selected_vote_3 = test[features_selected_vote_3]"
   ]
  },
  {
   "cell_type": "markdown",
   "metadata": {},
   "source": [
    "#### select features using model votes >=4"
   ]
  },
  {
   "cell_type": "code",
   "execution_count": 157,
   "metadata": {},
   "outputs": [
    {
     "data": {
      "text/plain": [
       "['education',\n",
       " 'poutcome_success',\n",
       " 'duration',\n",
       " 'emp.var.rate',\n",
       " 'cons.price.idx',\n",
       " 'cons.conf.idx',\n",
       " 'euribor3m',\n",
       " 'nr.employed',\n",
       " 'DJI_monthly_adjclose',\n",
       " 'job_1.0',\n",
       " 'CPI_DJI',\n",
       " 'campaign']"
      ]
     },
     "execution_count": 157,
     "metadata": {},
     "output_type": "execute_result"
    }
   ],
   "source": [
    "# select by feature count\n",
    "features_selected_vote_4 = feature_count[feature_count>=4].index.tolist()\n",
    "features_selected_vote_4"
   ]
  },
  {
   "cell_type": "code",
   "execution_count": 171,
   "metadata": {},
   "outputs": [],
   "source": [
    "features_selected_vote_4 = ['education',\n",
    " 'poutcome_success',\n",
    " 'duration',\n",
    " 'emp.var.rate',\n",
    " 'cons.price.idx',\n",
    " 'cons.conf.idx',\n",
    " 'euribor3m',\n",
    " 'nr.employed',\n",
    " 'DJI_monthly_adjclose',\n",
    " 'job_1.0',\n",
    " 'CPI_DJI',\n",
    " 'campaign']\n",
    "\n",
    "X_train_selected_vote_4 = train[features_selected_vote_4]\n",
    "X_test_selected_vote_4 = test[features_selected_vote_4]"
   ]
  },
  {
   "cell_type": "markdown",
   "metadata": {},
   "source": [
    "#### Best Model with selected feature (vote=3)"
   ]
  },
  {
   "cell_type": "code",
   "execution_count": 159,
   "metadata": {},
   "outputs": [],
   "source": [
    "smote = SMOTE()\n",
    "X_train_selected_vote_3_smote, y_train_smote = smote.fit_resample(X_train_selected_vote_3, y_train)"
   ]
  },
  {
   "cell_type": "code",
   "execution_count": 160,
   "metadata": {},
   "outputs": [],
   "source": [
    "def Clf_train_vote3(classifier):    \n",
    "    # classifier\n",
    "    clf = classifier\n",
    "    # fit data\n",
    "    clf.fit(X_train_selected_vote_3_smote, y_train_smote)\n",
    "    # get predictions\n",
    "    y_pred = clf.predict(X_test_selected_vote_3) # get predicted class\n",
    "    y_proba = clf.predict_proba(X_test_selected_vote_3) # get predicted prob.\n",
    "        \n",
    "    # generate confusion matrix\n",
    "    cm = pd.DataFrame(confusion_matrix(y_true=y_test, y_pred=y_pred), \\\n",
    "                      index=['Actual: 0', 'Actual: 1'], \\\n",
    "                      columns=['Pred: 0', 'Pred: 1'])\n",
    "    \n",
    "    # auc\n",
    "    fpr, tpr, thresholds = roc_curve(y_true=y_test, y_score=y_proba[:,1])\n",
    "    auc_score = auc(fpr, tpr)\n",
    "    \n",
    "    # f1-score\n",
    "    f1 = f1_score(y_true=y_test, y_pred=y_pred, average='macro')\n",
    "    \n",
    "    return cm, auc_score, f1"
   ]
  },
  {
   "cell_type": "code",
   "execution_count": 161,
   "metadata": {},
   "outputs": [
    {
     "name": "stdout",
     "output_type": "stream",
     "text": [
      "Confusion Matrix: \n",
      "\n",
      "            Pred: 0  Pred: 1\n",
      "Actual: 0    10213      752\n",
      "Actual: 1      419      973\n",
      "\n",
      "\n",
      "AUC Score: 0.941425565147203\n",
      "f1 Score: 0.7850488805725209\n"
     ]
    }
   ],
   "source": [
    "lgbm = LGBMClassifier(\n",
    "    learning_rate = lgbm_para['learning_rate'],\n",
    "    #colsample_bytree = lgbm_para['colsample_bytree'],\n",
    "    #feature_fraction = lgbm_para['feature_fraction'],\n",
    "    #num_leaves = lgbm_para['num_leaves'],\n",
    "    #subsample = lgbm_para['subsample'],\n",
    "    #max_depth = lgbm_para['max_depth'],\n",
    "    #min_child_samples = lgbm_para['min_child_samples'],\n",
    "    reg_alpha = lgbm_para['reg_alpha'],\n",
    "    reg_lambda = lgbm_para['reg_lambda']\n",
    ")\n",
    "\n",
    "cm_lgbm, auc_lgbm,f1_lgbm = Clf_train_vote3(lgbm)\n",
    "\n",
    "print(\"Confusion Matrix: \\n\\n\", cm_lgbm)\n",
    "print(\"\\n\")\n",
    "print(f\"AUC Score: {auc_lgbm}\")\n",
    "print(f\"f1 Score: {f1_lgbm}\")"
   ]
  },
  {
   "cell_type": "markdown",
   "metadata": {},
   "source": [
    "#### Best Model with selected feature (vote=4)"
   ]
  },
  {
   "cell_type": "code",
   "execution_count": 172,
   "metadata": {},
   "outputs": [],
   "source": [
    "smote = SMOTE()\n",
    "X_train_selected_vote_4_smote, y_train_vote_4_smote = smote.fit_resample(X_train_selected_vote_4, y_train)"
   ]
  },
  {
   "cell_type": "code",
   "execution_count": 173,
   "metadata": {},
   "outputs": [],
   "source": [
    "def Clf_train_vote4(classifier):    \n",
    "    # classifier\n",
    "    clf = classifier\n",
    "    # fit data\n",
    "    clf.fit(X_train_selected_vote_4_smote, y_train_smote)\n",
    "    # get predictions\n",
    "    y_pred = clf.predict(X_test_selected_vote_4) # get predicted class\n",
    "    y_proba = clf.predict_proba(X_test_selected_vote_4) # get predicted prob.\n",
    "        \n",
    "    # generate confusion matrix\n",
    "    cm = pd.DataFrame(confusion_matrix(y_true=y_test, y_pred=y_pred), \\\n",
    "                      index=['Actual: 0', 'Actual: 1'], \\\n",
    "                      columns=['Pred: 0', 'Pred: 1'])\n",
    "    \n",
    "    # auc\n",
    "    fpr, tpr, thresholds = roc_curve(y_true=y_test, y_score=y_proba[:,1])\n",
    "    auc_score = auc(fpr, tpr)\n",
    "    \n",
    "    # f1-score\n",
    "    f1 = f1_score(y_true=y_test, y_pred=y_pred, average='macro')\n",
    "    \n",
    "    return cm, auc_score, f1"
   ]
  },
  {
   "cell_type": "code",
   "execution_count": 174,
   "metadata": {},
   "outputs": [
    {
     "name": "stdout",
     "output_type": "stream",
     "text": [
      "Confusion Matrix: \n",
      "\n",
      "            Pred: 0  Pred: 1\n",
      "Actual: 0     9809     1156\n",
      "Actual: 1      269     1123\n",
      "\n",
      "\n",
      "AUC Score: 0.9385875775062764\n",
      "f1 Score: 0.7720519552568631\n"
     ]
    }
   ],
   "source": [
    "lgbm = LGBMClassifier(\n",
    "    learning_rate = lgbm_para['learning_rate'],\n",
    "    #colsample_bytree = lgbm_para['colsample_bytree'],\n",
    "    #feature_fraction = lgbm_para['feature_fraction'],\n",
    "    #num_leaves = lgbm_para['num_leaves'],\n",
    "    #subsample = lgbm_para['subsample'],\n",
    "    #max_depth = lgbm_para['max_depth'],\n",
    "    #min_child_samples = lgbm_para['min_child_samples'],\n",
    "    reg_alpha = lgbm_para['reg_alpha'],\n",
    "    reg_lambda = lgbm_para['reg_lambda']\n",
    ")\n",
    "\n",
    "cm_lgbm, auc_lgbm,f1_lgbm = Clf_train_vote4(lgbm)\n",
    "\n",
    "print(\"Confusion Matrix: \\n\\n\", cm_lgbm)\n",
    "print(\"\\n\")\n",
    "print(f\"AUC Score: {auc_lgbm}\")\n",
    "print(f\"f1 Score: {f1_lgbm}\")"
   ]
  }
 ],
 "metadata": {
  "kernelspec": {
   "display_name": "Python 3",
   "language": "python",
   "name": "python3"
  },
  "language_info": {
   "codemirror_mode": {
    "name": "ipython",
    "version": 3
   },
   "file_extension": ".py",
   "mimetype": "text/x-python",
   "name": "python",
   "nbconvert_exporter": "python",
   "pygments_lexer": "ipython3",
   "version": "3.7.6"
  }
 },
 "nbformat": 4,
 "nbformat_minor": 4
}
