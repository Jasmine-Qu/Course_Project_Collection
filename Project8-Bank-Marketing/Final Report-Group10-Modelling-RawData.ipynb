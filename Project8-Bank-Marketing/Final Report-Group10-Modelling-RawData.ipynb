{
 "cells": [
  {
   "cell_type": "markdown",
   "metadata": {},
   "source": [
    "# Final Report - Group 10"
   ]
  },
  {
   "cell_type": "markdown",
   "metadata": {},
   "source": [
    "### Libaray"
   ]
  },
  {
   "cell_type": "code",
   "execution_count": 129,
   "metadata": {},
   "outputs": [],
   "source": [
    "import numpy as np\n",
    "import pandas as pd\n",
    "import matplotlib.pyplot as plt\n",
    "import seaborn as sns\n",
    "\n",
    "# Preprocessing\n",
    "from sklearn.preprocessing import MinMaxScaler, StandardScaler\n",
    "\n",
    "# Resampling\n",
    "from imblearn.over_sampling import SMOTE\n",
    "\n",
    "# Feature selection\n",
    "from sklearn.feature_selection import SelectFromModel\n",
    "\n",
    "# Models\n",
    "from sklearn.linear_model import LogisticRegression\n",
    "from sklearn.ensemble import RandomForestClassifier\n",
    "from sklearn.naive_bayes import GaussianNB\n",
    "from xgboost import XGBClassifier\n",
    "from lightgbm import LGBMClassifier\n",
    "from sklearn.ensemble import StackingClassifier\n",
    "\n",
    "# Tuning\n",
    "from hyperopt import STATUS_OK, Trials, fmin, hp, tpe\n",
    "from hyperopt.pyll import scope\n",
    "\n",
    "# Evaluation\n",
    "from sklearn.model_selection import train_test_split\n",
    "from sklearn.metrics import (confusion_matrix, auc,\n",
    "                             roc_curve, roc_auc_score, classification_report, f1_score)\n",
    "from sklearn.model_selection import GridSearchCV\n",
    "\n",
    "\n",
    "pd.options.display.max_columns = 999\n",
    "%matplotlib inline\n",
    "color = sns.color_palette()\n",
    "sns.set_style('white')"
   ]
  },
  {
   "cell_type": "markdown",
   "metadata": {},
   "source": [
    "## Bookmark\n",
    "\n",
    "<a href=#p0>0. Raw Data Preparation</a>\n",
    "\n",
    "<a href=#p1>1. Modeling - Baseline</a>\n",
    "\n",
    "<a href=#p2>2. Modeling - Tuning</a>\n",
    "\n",
    "<a href=#p3>3. Modeling - Stacking</a>"
   ]
  },
  {
   "cell_type": "markdown",
   "metadata": {},
   "source": [
    "## Read data"
   ]
  },
  {
   "cell_type": "code",
   "execution_count": 20,
   "metadata": {},
   "outputs": [],
   "source": [
    "df = pd.read_csv('bank-additional-full.csv',sep =\";\")\n",
    "train = pd.read_csv('train_set.csv',index_col = 0)\n",
    "test = pd.read_csv('test_set.csv',index_col = 0)"
   ]
  },
  {
   "cell_type": "markdown",
   "metadata": {},
   "source": [
    "<a name='p0' /></a>\n",
    "## 0. Raw Data Preparation"
   ]
  },
  {
   "cell_type": "code",
   "execution_count": 21,
   "metadata": {},
   "outputs": [],
   "source": [
    "df['y'].replace(\"no\", 0, inplace = True)\n",
    "df['y'].replace(\"yes\", 1, inplace = True)"
   ]
  },
  {
   "cell_type": "code",
   "execution_count": 22,
   "metadata": {},
   "outputs": [],
   "source": [
    "#get dummies for raw data\n",
    "dummy_features = ['job', 'marital', 'education', 'default', 'housing' ,          \n",
    "                  'loan','contact', 'month', 'day_of_week', 'poutcome']\n",
    "df = pd.get_dummies(data=df, columns=dummy_features,drop_first=True)"
   ]
  },
  {
   "cell_type": "code",
   "execution_count": 23,
   "metadata": {},
   "outputs": [],
   "source": [
    "# To get the index of train and test set to split the raw data\n",
    "train_index = train.index.values.tolist()\n",
    "test_index = test.index.values.tolist()\n",
    "train_index1 = pd.DataFrame(train_index,columns=['index'])\n",
    "train_index1=train_index1.sort_values(by='index')"
   ]
  },
  {
   "cell_type": "code",
   "execution_count": 24,
   "metadata": {},
   "outputs": [],
   "source": [
    "# Generate train_raw/test_raw, make sure that the raw data train/test set is the same to the processed one\n",
    "df['ID']=df.index.values\n",
    "train_raw = df.loc[df['ID'].isin(train_index)]\n",
    "test_raw = df.loc[df['ID'].isin(test_index)]"
   ]
  },
  {
   "cell_type": "code",
   "execution_count": 25,
   "metadata": {},
   "outputs": [],
   "source": [
    "train_raw = train_raw.drop(columns = 'ID')\n",
    "test_raw = test_raw.drop(columns = 'ID')"
   ]
  },
  {
   "cell_type": "code",
   "execution_count": 26,
   "metadata": {},
   "outputs": [],
   "source": [
    "X_train_raw = train_raw.drop(columns = ['y'])\n",
    "y_train_raw = train_raw['y']\n",
    "\n",
    "X_test_raw = test_raw.drop(columns = ['y'])\n",
    "y_test_raw = test_raw['y']"
   ]
  },
  {
   "cell_type": "markdown",
   "metadata": {},
   "source": [
    "<a name='p1' /></a>\n",
    "## 1. Modeling - Baseline"
   ]
  },
  {
   "cell_type": "markdown",
   "metadata": {},
   "source": [
    "### SMOTE"
   ]
  },
  {
   "cell_type": "code",
   "execution_count": 27,
   "metadata": {},
   "outputs": [],
   "source": [
    "smote = SMOTE()\n",
    "X_train_raw_smote, y_train_raw_smote = smote.fit_resample(X_train_raw, y_train_raw)"
   ]
  },
  {
   "cell_type": "code",
   "execution_count": 28,
   "metadata": {},
   "outputs": [],
   "source": [
    "def Clf_train(classifier):    \n",
    "    # classifier\n",
    "    clf = classifier\n",
    "    # fit data\n",
    "    clf.fit(X_train_raw_smote, y_train_raw_smote)\n",
    "    # get predictions\n",
    "    y_pred = clf.predict(X_test_raw) # get predicted class\n",
    "    y_proba = clf.predict_proba(X_test_raw) # get predicted prob.\n",
    "        \n",
    "    # generate confusion matrix\n",
    "    cm = pd.DataFrame(confusion_matrix(y_true=y_test_raw, y_pred=y_pred), \\\n",
    "                      index=['Actual: 0', 'Actual: 1'], \\\n",
    "                      columns=['Pred: 0', 'Pred: 1'])\n",
    "    \n",
    "    # auc\n",
    "    fpr, tpr, thresholds = roc_curve(y_true=y_test_raw, y_score=y_proba[:,1])\n",
    "    auc_score = auc(fpr, tpr)\n",
    "    \n",
    "    # f1-score\n",
    "    f1 = f1_score(y_true=y_test_raw, y_pred=y_pred, average='macro')\n",
    "    \n",
    "    return cm, auc_score, f1"
   ]
  },
  {
   "cell_type": "markdown",
   "metadata": {},
   "source": [
    "### Baseline - Naive Bayesian"
   ]
  },
  {
   "cell_type": "code",
   "execution_count": 29,
   "metadata": {},
   "outputs": [
    {
     "name": "stdout",
     "output_type": "stream",
     "text": [
      "Confusion Matrix: \n",
      "\n",
      "            Pred: 0  Pred: 1\n",
      "Actual: 0     9199     1766\n",
      "Actual: 1      659      733\n",
      "\n",
      "\n",
      "AUC Score: 0.7138473185317966\n",
      "f1 Score: 0.6301545674596003\n"
     ]
    }
   ],
   "source": [
    "nb = GaussianNB()\n",
    "\n",
    "# build model\n",
    "cm_nb, auc_nb, f1_nb = Clf_train(nb)\n",
    "\n",
    "print(\"Confusion Matrix: \\n\\n\", cm_nb)\n",
    "print(\"\\n\")\n",
    "print(f\"AUC Score: {auc_nb}\")\n",
    "print(f\"f1 Score: {f1_nb}\")"
   ]
  },
  {
   "cell_type": "markdown",
   "metadata": {},
   "source": [
    "###  Logistic Regression"
   ]
  },
  {
   "cell_type": "code",
   "execution_count": 43,
   "metadata": {},
   "outputs": [
    {
     "name": "stdout",
     "output_type": "stream",
     "text": [
      "Confusion Matrix: \n",
      "\n",
      "            Pred: 0  Pred: 1\n",
      "Actual: 0     9482     1483\n",
      "Actual: 1      233     1159\n",
      "\n",
      "\n",
      "AUC Score: 0.9258351415947292\n",
      "f1 Score: 0.7458185212924187\n"
     ]
    },
    {
     "name": "stderr",
     "output_type": "stream",
     "text": [
      "/Users/chenyiqiu/opt/anaconda3/lib/python3.7/site-packages/sklearn/linear_model/_sag.py:329: ConvergenceWarning: The max_iter was reached which means the coef_ did not converge\n",
      "  \"the coef_ did not converge\", ConvergenceWarning)\n"
     ]
    }
   ],
   "source": [
    "lr = LogisticRegression(solver = 'saga', max_iter=1000)\n",
    "\n",
    "# build model\n",
    "cm_lr, auc_lr, f1_lr = Clf_train(lr)\n",
    "\n",
    "print(\"Confusion Matrix: \\n\\n\", cm_lr)\n",
    "print(\"\\n\")\n",
    "print(f\"AUC Score: {auc_lr}\")\n",
    "print(f\"f1 Score: {f1_lr}\")"
   ]
  },
  {
   "cell_type": "markdown",
   "metadata": {},
   "source": [
    "###  Random Forest"
   ]
  },
  {
   "cell_type": "code",
   "execution_count": 35,
   "metadata": {},
   "outputs": [
    {
     "name": "stdout",
     "output_type": "stream",
     "text": [
      "Confusion Matrix: \n",
      "\n",
      "            Pred: 0  Pred: 1\n",
      "Actual: 0    10461      504\n",
      "Actual: 1      604      788\n",
      "\n",
      "\n",
      "AUC Score: 0.9393888469581898\n",
      "f1 Score: 0.7684441281466202\n"
     ]
    }
   ],
   "source": [
    "rf = RandomForestClassifier()\n",
    "\n",
    "# build model\n",
    "cm_rf, auc_rf, f1_rf = Clf_train(rf)\n",
    "\n",
    "print(\"Confusion Matrix: \\n\\n\", cm_rf)\n",
    "print(\"\\n\")\n",
    "print(f\"AUC Score: {auc_rf}\")\n",
    "print(f\"f1 Score: {f1_rf}\")"
   ]
  },
  {
   "cell_type": "markdown",
   "metadata": {},
   "source": [
    "### XGBoost"
   ]
  },
  {
   "cell_type": "code",
   "execution_count": 36,
   "metadata": {},
   "outputs": [
    {
     "name": "stdout",
     "output_type": "stream",
     "text": [
      "Confusion Matrix: \n",
      "\n",
      "            Pred: 0  Pred: 1\n",
      "Actual: 0    10409      556\n",
      "Actual: 1      564      828\n",
      "\n",
      "\n",
      "AUC Score: 0.9405492462956848\n",
      "f1 Score: 0.7727444096448912\n"
     ]
    }
   ],
   "source": [
    "xgb = XGBClassifier()\n",
    "\n",
    "# build model\n",
    "cm_xgb, auc_xgb, f1_xgb = Clf_train(xgb)\n",
    "\n",
    "print(\"Confusion Matrix: \\n\\n\", cm_xgb)\n",
    "print(\"\\n\")\n",
    "print(f\"AUC Score: {auc_xgb}\")\n",
    "print(f\"f1 Score: {f1_xgb}\")"
   ]
  },
  {
   "cell_type": "markdown",
   "metadata": {},
   "source": [
    "### LightGBM"
   ]
  },
  {
   "cell_type": "code",
   "execution_count": 37,
   "metadata": {},
   "outputs": [
    {
     "name": "stdout",
     "output_type": "stream",
     "text": [
      "Confusion Matrix: \n",
      "\n",
      "            Pred: 0  Pred: 1\n",
      "Actual: 0    10379      586\n",
      "Actual: 1      499      893\n",
      "\n",
      "\n",
      "AUC Score: 0.9452623223841795\n",
      "f1 Score: 0.7862051169668065\n"
     ]
    }
   ],
   "source": [
    "lgb = LGBMClassifier()\n",
    "\n",
    "# build model\n",
    "cm_lgb, auc_lgb,f1_lgb = Clf_train(lgb)\n",
    "\n",
    "print(\"Confusion Matrix: \\n\\n\", cm_lgb)\n",
    "print(\"\\n\")\n",
    "print(f\"AUC Score: {auc_lgb}\")\n",
    "print(f\"f1 Score: {f1_lgb}\")"
   ]
  },
  {
   "cell_type": "markdown",
   "metadata": {},
   "source": [
    "<a name='p2' /></a>\n",
    "## 2. Modeling - Tuning\n"
   ]
  },
  {
   "cell_type": "markdown",
   "metadata": {},
   "source": [
    "#### NB"
   ]
  },
  {
   "cell_type": "code",
   "execution_count": 39,
   "metadata": {},
   "outputs": [
    {
     "data": {
      "text/plain": [
       "{'var_smoothing': 0.0657933224657568}"
      ]
     },
     "execution_count": 39,
     "metadata": {},
     "output_type": "execute_result"
    }
   ],
   "source": [
    "nb_classifier = GaussianNB()\n",
    "\n",
    "params_NB = {'var_smoothing': np.logspace(0,-9, num=100)}\n",
    "\n",
    "gs_NB = GridSearchCV(estimator=nb_classifier, \n",
    "                 param_grid=params_NB, \n",
    "                 cv=5,\n",
    "                 n_jobs = -1, \n",
    "                 scoring='roc_auc') \n",
    "\n",
    "gs_NB.fit(X_train_raw_smote, y_train_raw_smote)\n",
    "\n",
    "gs_NB.best_params_"
   ]
  },
  {
   "cell_type": "code",
   "execution_count": 40,
   "metadata": {},
   "outputs": [
    {
     "name": "stdout",
     "output_type": "stream",
     "text": [
      "Confusion Matrix: \n",
      "\n",
      "            Pred: 0  Pred: 1\n",
      "Actual: 0    10436      529\n",
      "Actual: 1      683      709\n",
      "\n",
      "\n",
      "AUC Score: 0.9186466473785452\n",
      "f1 Score: 0.7421410680133855\n"
     ]
    }
   ],
   "source": [
    "nb_2 = GaussianNB(var_smoothing = 0.0657933224657568)\n",
    "\n",
    "# build model\n",
    "cm_nb_2, auc_nb_2, f1_nb_2 = Clf_train(nb_2)\n",
    "\n",
    "print(\"Confusion Matrix: \\n\\n\", cm_nb_2)\n",
    "print(\"\\n\")\n",
    "print(f\"AUC Score: {auc_nb_2}\")\n",
    "print(f\"f1 Score: {f1_nb_2}\")"
   ]
  },
  {
   "cell_type": "markdown",
   "metadata": {},
   "source": [
    "#### LR"
   ]
  },
  {
   "cell_type": "code",
   "execution_count": 44,
   "metadata": {},
   "outputs": [
    {
     "name": "stderr",
     "output_type": "stream",
     "text": [
      "/Users/chenyiqiu/opt/anaconda3/lib/python3.7/site-packages/sklearn/linear_model/_sag.py:329: ConvergenceWarning: The max_iter was reached which means the coef_ did not converge\n",
      "  \"the coef_ did not converge\", ConvergenceWarning)\n"
     ]
    },
    {
     "data": {
      "text/plain": [
       "{'C': 100, 'penalty': 'l1'}"
      ]
     },
     "execution_count": 44,
     "metadata": {},
     "output_type": "execute_result"
    }
   ],
   "source": [
    "lr_classifier = LogisticRegression(solver = 'saga', max_iter=1000)\n",
    "\n",
    "params_LR = {\n",
    "            'penalty': ['l2','l1'],\n",
    "            'C': [100, 10, 1.0, 0.1, 0.01]\n",
    "}\n",
    "\n",
    "gs_LR = GridSearchCV(estimator=lr_classifier, \n",
    "                 param_grid=params_LR, \n",
    "                 cv=5,\n",
    "                 n_jobs = -1, \n",
    "                 scoring='roc_auc') \n",
    "\n",
    "gs_LR.fit(X_train_raw_smote, y_train_raw_smote)\n",
    "\n",
    "params_1 = gs_LR.best_params_\n",
    "params_1"
   ]
  },
  {
   "cell_type": "code",
   "execution_count": 45,
   "metadata": {},
   "outputs": [
    {
     "name": "stdout",
     "output_type": "stream",
     "text": [
      "Confusion Matrix: \n",
      "\n",
      "            Pred: 0  Pred: 1\n",
      "Actual: 0     9482     1483\n",
      "Actual: 1      233     1159\n",
      "\n",
      "\n",
      "AUC Score: 0.9258355346950328\n",
      "f1 Score: 0.7458185212924187\n"
     ]
    },
    {
     "name": "stderr",
     "output_type": "stream",
     "text": [
      "/Users/chenyiqiu/opt/anaconda3/lib/python3.7/site-packages/sklearn/linear_model/_sag.py:329: ConvergenceWarning: The max_iter was reached which means the coef_ did not converge\n",
      "  \"the coef_ did not converge\", ConvergenceWarning)\n"
     ]
    }
   ],
   "source": [
    "lr_2 = LogisticRegression(\n",
    "    solver = 'saga',\n",
    "    max_iter = 1000,\n",
    "    penalty = params_1['penalty'],\n",
    "    C = params_1['C']     \n",
    ")\n",
    "\n",
    "# build model\n",
    "cm_lr_2, auc_lr_2, f1_lr_2 = Clf_train(lr_2)\n",
    "\n",
    "print(\"Confusion Matrix: \\n\\n\", cm_lr_2)\n",
    "print(\"\\n\")\n",
    "print(f\"AUC Score: {auc_lr_2}\")\n",
    "print(f\"f1 Score: {f1_lr_2}\")"
   ]
  },
  {
   "cell_type": "markdown",
   "metadata": {},
   "source": [
    "####    RF"
   ]
  },
  {
   "cell_type": "code",
   "execution_count": 53,
   "metadata": {},
   "outputs": [
    {
     "data": {
      "text/plain": [
       "{'n_estimators': 220}"
      ]
     },
     "execution_count": 53,
     "metadata": {},
     "output_type": "execute_result"
    }
   ],
   "source": [
    "rf_classifier = RandomForestClassifier()\n",
    "\n",
    "params_RF = {\n",
    "     'n_estimators': [220, 280],\n",
    "     #'max_depth':[5, None], \n",
    "     #'min_samples_split':[2, 3],\n",
    "     #'min_samples_leaf':[1, 3],\n",
    "    \n",
    "}\n",
    "\n",
    "gs_RF = GridSearchCV(estimator=rf_classifier, \n",
    "                 param_grid=params_RF, \n",
    "                 cv=5,\n",
    "                 n_jobs = -1, \n",
    "                 scoring='roc_auc') \n",
    "\n",
    "gs_RF.fit(X_train_raw_smote, y_train_raw_smote)\n",
    "\n",
    "params_2 = gs_RF.best_params_\n",
    "params_2"
   ]
  },
  {
   "cell_type": "code",
   "execution_count": 54,
   "metadata": {},
   "outputs": [
    {
     "name": "stdout",
     "output_type": "stream",
     "text": [
      "Confusion Matrix: \n",
      "\n",
      "            Pred: 0  Pred: 1\n",
      "Actual: 0    10466      499\n",
      "Actual: 1      590      802\n",
      "\n",
      "\n",
      "AUC Score: 0.9414249099800306\n",
      "f1 Score: 0.7730827372642793\n"
     ]
    }
   ],
   "source": [
    "rf_2 = RandomForestClassifier(\n",
    "    n_estimators = params_2['n_estimators'],\n",
    "    #max_depth = params_2['max_depth'],\n",
    "    #min_samples_split = params_2['min_samples_split'],\n",
    "    #min_samples_leaf = params_2['min_samples_leaf'],\n",
    ")\n",
    "\n",
    "# build model\n",
    "cm_rf_2, auc_rf_2, f1_rf_2 = Clf_train(rf_2)\n",
    "\n",
    "print(\"Confusion Matrix: \\n\\n\", cm_rf_2)\n",
    "print(\"\\n\")\n",
    "print(f\"AUC Score: {auc_rf_2}\")\n",
    "print(f\"f1 Score: {f1_rf_2}\")"
   ]
  },
  {
   "cell_type": "markdown",
   "metadata": {},
   "source": [
    "#### XGB"
   ]
  },
  {
   "cell_type": "code",
   "execution_count": 124,
   "metadata": {},
   "outputs": [
    {
     "data": {
      "text/plain": [
       "{'gamma': 2, 'reg_alpha': 0.8, 'reg_lambda': 0.8}"
      ]
     },
     "execution_count": 124,
     "metadata": {},
     "output_type": "execute_result"
    }
   ],
   "source": [
    "xgb_classifier = XGBClassifier(eta = 0.1)\n",
    "\n",
    "params_XGB = {\n",
    "    #'n_estimators':[100,150]\n",
    "    #'eta':[0.2,0.3],\n",
    "    #'subsample':[0.5,1],\n",
    "    #'max_depth':[28, 30],\n",
    "    'gamma':[0,2],\n",
    "    'reg_alpha':[0.6, 0.8],\n",
    "    'reg_lambda':[0.4, 0.8]\n",
    "    #'min_child_weight':[1,3]\n",
    "    #'booster': ['gbtree', 'gblinear', 'dart']\n",
    "}\n",
    "\n",
    "gs_XGB = GridSearchCV(estimator=xgb_classifier, \n",
    "                 param_grid=params_XGB, \n",
    "                 cv=5,\n",
    "                 n_jobs = -1, \n",
    "                 scoring='roc_auc') \n",
    "\n",
    "gs_XGB.fit(X_train_raw_smote, y_train_raw_smote)\n",
    "\n",
    "params_3 = gs_XGB.best_params_\n",
    "params_3"
   ]
  },
  {
   "cell_type": "code",
   "execution_count": 125,
   "metadata": {},
   "outputs": [
    {
     "name": "stdout",
     "output_type": "stream",
     "text": [
      "Confusion Matrix: \n",
      "\n",
      "            Pred: 0  Pred: 1\n",
      "Actual: 0    10417      548\n",
      "Actual: 1      578      814\n",
      "\n",
      "\n",
      "AUC Score: 0.9412711094862964\n",
      "f1 Score: 0.7699325571151351\n"
     ]
    }
   ],
   "source": [
    "xgb_2 = XGBClassifier(\n",
    "    #n_estimators = params_3['n_estimators']\n",
    "    #eta = params_3['eta'],\n",
    "    #min_child_weight = params_3['min_child_weight'],\n",
    "    gamma = params_3['gamma'],\n",
    "    #subsample = params_3['subsample'],\n",
    "    #colsample_bytree = params_3['colsample_bytree'],\n",
    "    #max_depth = params_3['max_depth']\n",
    "    #booster = params_3['booster']\n",
    "    reg_alpha = params_3['reg_alpha'],\n",
    "    reg_lambda = params_3['reg_lambda']\n",
    "\n",
    ")\n",
    "\n",
    "# build model\n",
    "cm_xgb_2,auc_xgb_2, f1_xgb_2 = Clf_train(xgb_2)\n",
    "\n",
    "print(\"Confusion Matrix: \\n\\n\", cm_xgb_2)\n",
    "print(\"\\n\")\n",
    "print(f\"AUC Score: {auc_xgb_2}\")\n",
    "print(f\"f1 Score: {f1_xgb_2}\")"
   ]
  },
  {
   "cell_type": "markdown",
   "metadata": {},
   "source": [
    "#### LGBM"
   ]
  },
  {
   "cell_type": "code",
   "execution_count": 116,
   "metadata": {},
   "outputs": [
    {
     "data": {
      "text/plain": [
       "{'learning_rate': 0.1, 'reg_alpha': 0.7}"
      ]
     },
     "execution_count": 116,
     "metadata": {},
     "output_type": "execute_result"
    }
   ],
   "source": [
    "lgbm_classifier = LGBMClassifier()\n",
    "\n",
    "params_lgbm = {\n",
    "    'learning_rate' : [0.05,0.1],\n",
    "    #'max_depth':[6,10],\n",
    "    #'min_child_samples': [23, 26],\n",
    "    #'feature_fraction': [0.3, 0.4],\n",
    "    #'num_leaves': [100,150],\n",
    "    #'subsample': [0.4, 0.6], \n",
    "    #'colsample_bytree': [0.4, 0.6],\n",
    "    'reg_alpha':[0.4,0.7]\n",
    "\n",
    "}\n",
    "\n",
    "gs_lgbm = GridSearchCV(estimator=lgbm_classifier, \n",
    "                 param_grid=params_lgbm, \n",
    "                 cv=5,\n",
    "                 n_jobs = -1, \n",
    "                 scoring='roc_auc') \n",
    "\n",
    "gs_lgbm.fit(X_train_raw_smote, y_train_raw_smote)\n",
    "\n",
    "params_4 = gs_lgbm.best_params_\n",
    "params_4"
   ]
  },
  {
   "cell_type": "code",
   "execution_count": 115,
   "metadata": {},
   "outputs": [
    {
     "name": "stdout",
     "output_type": "stream",
     "text": [
      "Confusion Matrix: \n",
      "\n",
      "            Pred: 0  Pred: 1\n",
      "Actual: 0    10395      570\n",
      "Actual: 1      493      899\n",
      "\n",
      "\n",
      "AUC Score: 0.9455669096026541\n",
      "f1 Score: 0.7899041917353365\n"
     ]
    }
   ],
   "source": [
    "lgbm_2 = LGBMClassifier(\n",
    "    learning_rate = params_4['learning_rate'],\n",
    "    #colsample_bytree = params_5['colsample_bytree'],\n",
    "    #feature_fraction = params_5['feature_fraction'],\n",
    "    #num_leaves = params_5['num_leaves'],\n",
    "    #subsample = params_5['subsample'],\n",
    "    #max_depth = params_5['max_depth']\n",
    "    #min_child_samples = params_5['min_child_samples'],\n",
    "    reg_alpha = params_4['reg_alpha']\n",
    "\n",
    "\n",
    ")\n",
    "\n",
    "cm_lgbm_2, auc_lgbm_2,f1_lgbm_2 = Clf_train(lgbm_2)\n",
    "\n",
    "print(\"Confusion Matrix: \\n\\n\", cm_lgbm_2)\n",
    "print(\"\\n\")\n",
    "print(f\"AUC Score: {auc_lgbm_2}\")\n",
    "print(f\"f1 Score: {f1_lgbm_2}\")"
   ]
  },
  {
   "cell_type": "markdown",
   "metadata": {},
   "source": [
    "<a name='p3' /></a>\n",
    "## 3. Modeling - Stacking"
   ]
  },
  {
   "cell_type": "code",
   "execution_count": 126,
   "metadata": {},
   "outputs": [],
   "source": [
    "# tuned models\n",
    "nb_2 = GaussianNB(var_smoothing = 0.0657933224657568)\n",
    "lr_2 = LogisticRegression(\n",
    "    solver = 'saga',\n",
    "    max_iter = 1000,\n",
    "    penalty = params_1['penalty'],\n",
    "    C = params_1['C']     \n",
    ")\n",
    "rf_2 = RandomForestClassifier(\n",
    "    n_estimators = params_2['n_estimators'],\n",
    "    #max_depth = params_2['max_depth'],\n",
    "    #min_samples_split = params_2['min_samples_split'],\n",
    "    #min_samples_leaf = params_2['min_samples_leaf'],\n",
    "    #max_features = params_2['max_features']\n",
    ")\n",
    "xgb_2 = XGBClassifier(\n",
    "    #n_estimators = params_3['n_estimators']\n",
    "    #eta = params_3['eta'],\n",
    "    #min_child_weight = params_3['min_child_weight'],\n",
    "    gamma = params_3['gamma'],\n",
    "    #subsample = params_3['subsample'],\n",
    "    #colsample_bytree = params_3['colsample_bytree'],\n",
    "    #max_depth = params_3['max_depth']\n",
    "    #booster = params_3['booster']\n",
    "    reg_alpha = params_3['reg_alpha'],\n",
    "    reg_lambda = params_3['reg_lambda']\n",
    ")\n",
    "lgbm_2 = LGBMClassifier(\n",
    "    learning_rate = params_5['learning_rate'],\n",
    "    #colsample_bytree = params_5['colsample_bytree'],\n",
    "    #feature_fraction = params_5['feature_fraction'],\n",
    "    #num_leaves = params_5['num_leaves'],\n",
    "    #subsample = params_5['subsample'],\n",
    "    #max_depth = params_5['max_depth']\n",
    "    #min_child_samples = params_5['min_child_samples'],\n",
    "    reg_alpha = params_5['reg_alpha']\n",
    ")"
   ]
  },
  {
   "cell_type": "code",
   "execution_count": 127,
   "metadata": {},
   "outputs": [],
   "source": [
    "# get a stacking ensemble of models\n",
    "def get_model():\n",
    "    # define the level-0 base models with tuned paramters\n",
    "    level0 = []\n",
    "    level0.append(('lr', lr_2))\n",
    "    level0.append(('nb', nb_2))\n",
    "    level0.append(('rf', rf_2))\n",
    "    level0.append(('xgb', xgb_2))\n",
    "    level0.append(('lgbm', lgbm_2))\n",
    "    # define level-1 meta learner model\n",
    "    level1 = LogisticRegression()\n",
    "    # define the stacking ensemble\n",
    "    model = StackingClassifier(estimators=level0, final_estimator=level1)\n",
    "    return model"
   ]
  },
  {
   "cell_type": "code",
   "execution_count": 130,
   "metadata": {},
   "outputs": [
    {
     "name": "stderr",
     "output_type": "stream",
     "text": [
      "/Users/chenyiqiu/opt/anaconda3/lib/python3.7/site-packages/sklearn/linear_model/_sag.py:329: ConvergenceWarning: The max_iter was reached which means the coef_ did not converge\n",
      "  \"the coef_ did not converge\", ConvergenceWarning)\n",
      "/Users/chenyiqiu/opt/anaconda3/lib/python3.7/site-packages/sklearn/linear_model/_sag.py:329: ConvergenceWarning: The max_iter was reached which means the coef_ did not converge\n",
      "  \"the coef_ did not converge\", ConvergenceWarning)\n",
      "/Users/chenyiqiu/opt/anaconda3/lib/python3.7/site-packages/sklearn/linear_model/_sag.py:329: ConvergenceWarning: The max_iter was reached which means the coef_ did not converge\n",
      "  \"the coef_ did not converge\", ConvergenceWarning)\n",
      "/Users/chenyiqiu/opt/anaconda3/lib/python3.7/site-packages/sklearn/linear_model/_sag.py:329: ConvergenceWarning: The max_iter was reached which means the coef_ did not converge\n",
      "  \"the coef_ did not converge\", ConvergenceWarning)\n",
      "/Users/chenyiqiu/opt/anaconda3/lib/python3.7/site-packages/sklearn/linear_model/_sag.py:329: ConvergenceWarning: The max_iter was reached which means the coef_ did not converge\n",
      "  \"the coef_ did not converge\", ConvergenceWarning)\n",
      "/Users/chenyiqiu/opt/anaconda3/lib/python3.7/site-packages/sklearn/linear_model/_sag.py:329: ConvergenceWarning: The max_iter was reached which means the coef_ did not converge\n",
      "  \"the coef_ did not converge\", ConvergenceWarning)\n"
     ]
    },
    {
     "name": "stdout",
     "output_type": "stream",
     "text": [
      "Confusion Matrix: \n",
      "\n",
      "            Pred: 0  Pred: 1\n",
      "Actual: 0    10247      718\n",
      "Actual: 1      484      908\n",
      "\n",
      "\n",
      "AUC Score: 0.932913567725941\n",
      "f1 Score: 0.7731605389785183\n"
     ]
    }
   ],
   "source": [
    "stacking_model = get_model()\n",
    "\n",
    "cm_stk, auc_stk, f1_stk= Clf_train(stacking_model)\n",
    "\n",
    "print(\"Confusion Matrix: \\n\\n\", cm_stk)\n",
    "print(\"\\n\")\n",
    "print(f\"AUC Score: {auc_stk}\")\n",
    "print(f\"f1 Score: {f1_stk}\")"
   ]
  },
  {
   "cell_type": "code",
   "execution_count": null,
   "metadata": {},
   "outputs": [],
   "source": []
  }
 ],
 "metadata": {
  "kernelspec": {
   "display_name": "Python 3",
   "language": "python",
   "name": "python3"
  },
  "language_info": {
   "codemirror_mode": {
    "name": "ipython",
    "version": 3
   },
   "file_extension": ".py",
   "mimetype": "text/x-python",
   "name": "python",
   "nbconvert_exporter": "python",
   "pygments_lexer": "ipython3",
   "version": "3.7.7"
  }
 },
 "nbformat": 4,
 "nbformat_minor": 4
}
