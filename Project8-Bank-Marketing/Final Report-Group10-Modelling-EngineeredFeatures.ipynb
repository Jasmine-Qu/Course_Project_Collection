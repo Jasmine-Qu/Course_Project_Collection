{
 "cells": [
  {
   "cell_type": "markdown",
   "metadata": {},
   "source": [
    "# Final Report - Group 10"
   ]
  },
  {
   "cell_type": "markdown",
   "metadata": {},
   "source": [
    "### Libaray"
   ]
  },
  {
   "cell_type": "code",
   "execution_count": 1,
   "metadata": {},
   "outputs": [],
   "source": [
    "import numpy as np\n",
    "import pandas as pd\n",
    "import matplotlib.pyplot as plt\n",
    "import seaborn as sns\n",
    "\n",
    "# Preprocessing\n",
    "from sklearn.preprocessing import MinMaxScaler, StandardScaler\n",
    "\n",
    "# Resampling\n",
    "from imblearn.over_sampling import SMOTE\n",
    "\n",
    "# Feature selection\n",
    "from sklearn.feature_selection import SelectFromModel\n",
    "\n",
    "# Models\n",
    "from sklearn.linear_model import LogisticRegression\n",
    "from sklearn.ensemble import RandomForestClassifier\n",
    "from sklearn.naive_bayes import GaussianNB\n",
    "from xgboost import XGBClassifier\n",
    "from lightgbm import LGBMClassifier\n",
    "from sklearn.ensemble import StackingClassifier\n",
    "\n",
    "# Tuning\n",
    "from hyperopt import STATUS_OK, Trials, fmin, hp, tpe\n",
    "from hyperopt.pyll import scope\n",
    "\n",
    "# Evaluation\n",
    "from sklearn.model_selection import train_test_split\n",
    "from sklearn.metrics import (confusion_matrix, auc,\n",
    "                             roc_curve, roc_auc_score, classification_report, f1_score)\n",
    "from sklearn.model_selection import GridSearchCV\n",
    "\n",
    "\n",
    "pd.options.display.max_columns = 999\n",
    "%matplotlib inline\n",
    "color = sns.color_palette()\n",
    "sns.set_style('white')"
   ]
  },
  {
   "cell_type": "markdown",
   "metadata": {},
   "source": [
    "## Bookmark\n",
    "\n",
    "<a href=#p1>1. Modeling - Baseline</a>\n",
    "\n",
    "<a href=#p2>2. Modeling - Tuning</a>\n",
    "\n",
    "<a href=#p3>3. Modeling - Stacking</a>"
   ]
  },
  {
   "cell_type": "markdown",
   "metadata": {},
   "source": [
    "## Read data"
   ]
  },
  {
   "cell_type": "code",
   "execution_count": 2,
   "metadata": {},
   "outputs": [],
   "source": [
    "train = pd.read_csv('train_set.csv',index_col = 0)\n",
    "test = pd.read_csv('test_set.csv',index_col = 0)"
   ]
  },
  {
   "cell_type": "code",
   "execution_count": 3,
   "metadata": {},
   "outputs": [],
   "source": [
    "X_train = train.drop(columns = ['y'])\n",
    "y_train = train['y']\n",
    "\n",
    "X_test = test.drop(columns = ['y'])\n",
    "y_test = test['y']"
   ]
  },
  {
   "cell_type": "markdown",
   "metadata": {},
   "source": [
    "<a name='p1' /></a>\n",
    "## 1. Modeling - Baseline"
   ]
  },
  {
   "cell_type": "markdown",
   "metadata": {},
   "source": [
    "### SMOTE"
   ]
  },
  {
   "cell_type": "code",
   "execution_count": 4,
   "metadata": {},
   "outputs": [],
   "source": [
    "smote = SMOTE()\n",
    "X_train_smote, y_train_smote = smote.fit_resample(X_train, y_train)"
   ]
  },
  {
   "cell_type": "code",
   "execution_count": 5,
   "metadata": {},
   "outputs": [],
   "source": [
    "def Clf_train(classifier):    \n",
    "    # classifier\n",
    "    clf = classifier\n",
    "    # fit data\n",
    "    clf.fit(X_train_smote, y_train_smote)\n",
    "    # get predictions\n",
    "    y_pred = clf.predict(X_test) # get predicted class\n",
    "    y_proba = clf.predict_proba(X_test) # get predicted prob.\n",
    "        \n",
    "    # generate confusion matrix\n",
    "    cm = pd.DataFrame(confusion_matrix(y_true=y_test, y_pred=y_pred), \\\n",
    "                      index=['Actual: 0', 'Actual: 1'], \\\n",
    "                      columns=['Pred: 0', 'Pred: 1'])\n",
    "    \n",
    "    # auc\n",
    "    fpr, tpr, thresholds = roc_curve(y_true=y_test, y_score=y_proba[:,1])\n",
    "    auc_score = auc(fpr, tpr)\n",
    "    \n",
    "    # f1-score\n",
    "    f1 = f1_score(y_true=y_test, y_pred=y_pred, average='macro')\n",
    "    \n",
    "    return cm, auc_score, f1"
   ]
  },
  {
   "cell_type": "markdown",
   "metadata": {},
   "source": [
    "### Baseline - Naive Bayesian"
   ]
  },
  {
   "cell_type": "code",
   "execution_count": 6,
   "metadata": {},
   "outputs": [
    {
     "name": "stdout",
     "output_type": "stream",
     "text": [
      "Confusion Matrix: \n",
      "\n",
      "            Pred: 0  Pred: 1\n",
      "Actual: 0     9742     1223\n",
      "Actual: 1      382     1010\n",
      "\n",
      "\n",
      "AUC Score: 0.9008529949001787\n",
      "f1 Score: 0.7405676762358543\n"
     ]
    }
   ],
   "source": [
    "nb = GaussianNB()\n",
    "\n",
    "# build model\n",
    "cm_nb, auc_nb, f1_nb = Clf_train(nb)\n",
    "\n",
    "print(\"Confusion Matrix: \\n\\n\", cm_nb)\n",
    "print(\"\\n\")\n",
    "print(f\"AUC Score: {auc_nb}\")\n",
    "print(f\"f1 Score: {f1_nb}\")"
   ]
  },
  {
   "cell_type": "markdown",
   "metadata": {},
   "source": [
    "###  Logistic Regression"
   ]
  },
  {
   "cell_type": "code",
   "execution_count": 7,
   "metadata": {},
   "outputs": [
    {
     "name": "stdout",
     "output_type": "stream",
     "text": [
      "Confusion Matrix: \n",
      "\n",
      "            Pred: 0  Pred: 1\n",
      "Actual: 0     9278     1687\n",
      "Actual: 1      355     1037\n",
      "\n",
      "\n",
      "AUC Score: 0.8856130530266101\n",
      "f1 Score: 0.702375715381238\n"
     ]
    }
   ],
   "source": [
    "lr = LogisticRegression()\n",
    "# solver = 'saga', max_iter=1000\n",
    "# build model\n",
    "cm_lr, auc_lr, f1_lr = Clf_train(lr)\n",
    "\n",
    "print(\"Confusion Matrix: \\n\\n\", cm_lr)\n",
    "print(\"\\n\")\n",
    "print(f\"AUC Score: {auc_lr}\")\n",
    "print(f\"f1 Score: {f1_lr}\")"
   ]
  },
  {
   "cell_type": "markdown",
   "metadata": {},
   "source": [
    "###  Random Forest"
   ]
  },
  {
   "cell_type": "code",
   "execution_count": 8,
   "metadata": {},
   "outputs": [
    {
     "name": "stdout",
     "output_type": "stream",
     "text": [
      "Confusion Matrix: \n",
      "\n",
      "            Pred: 0  Pred: 1\n",
      "Actual: 0    10555      410\n",
      "Actual: 1      680      712\n",
      "\n",
      "\n",
      "AUC Score: 0.9373173066339607\n",
      "f1 Score: 0.7586644520415403\n"
     ]
    }
   ],
   "source": [
    "rf = RandomForestClassifier()\n",
    "\n",
    "# build model\n",
    "cm_rf, auc_rf, f1_rf = Clf_train(rf)\n",
    "\n",
    "print(\"Confusion Matrix: \\n\\n\", cm_rf)\n",
    "print(\"\\n\")\n",
    "print(f\"AUC Score: {auc_rf}\")\n",
    "print(f\"f1 Score: {f1_rf}\")"
   ]
  },
  {
   "cell_type": "markdown",
   "metadata": {},
   "source": [
    "### XGBoost"
   ]
  },
  {
   "cell_type": "code",
   "execution_count": 9,
   "metadata": {},
   "outputs": [
    {
     "name": "stdout",
     "output_type": "stream",
     "text": [
      "Confusion Matrix: \n",
      "\n",
      "            Pred: 0  Pred: 1\n",
      "Actual: 0    10515      450\n",
      "Actual: 1      624      768\n",
      "\n",
      "\n",
      "AUC Score: 0.9440809249388074\n",
      "f1 Score: 0.7699586281777677\n"
     ]
    }
   ],
   "source": [
    "xgb = XGBClassifier()\n",
    "\n",
    "# build model\n",
    "cm_xgb, auc_xgb, f1_xgb = Clf_train(xgb)\n",
    "\n",
    "print(\"Confusion Matrix: \\n\\n\", cm_xgb)\n",
    "print(\"\\n\")\n",
    "print(f\"AUC Score: {auc_xgb}\")\n",
    "print(f\"f1 Score: {f1_xgb}\")"
   ]
  },
  {
   "cell_type": "markdown",
   "metadata": {},
   "source": [
    "### LightGBM"
   ]
  },
  {
   "cell_type": "code",
   "execution_count": 10,
   "metadata": {},
   "outputs": [
    {
     "name": "stdout",
     "output_type": "stream",
     "text": [
      "Confusion Matrix: \n",
      "\n",
      "            Pred: 0  Pred: 1\n",
      "Actual: 0    10512      453\n",
      "Actual: 1      586      806\n",
      "\n",
      "\n",
      "AUC Score: 0.9476117846229644\n",
      "f1 Score: 0.7804900041653977\n"
     ]
    }
   ],
   "source": [
    "lgb = LGBMClassifier()\n",
    "\n",
    "# build model\n",
    "cm_lgb, auc_lgb,f1_lgb = Clf_train(lgb)\n",
    "\n",
    "print(\"Confusion Matrix: \\n\\n\", cm_lgb)\n",
    "print(\"\\n\")\n",
    "print(f\"AUC Score: {auc_lgb}\")\n",
    "print(f\"f1 Score: {f1_lgb}\")"
   ]
  },
  {
   "cell_type": "markdown",
   "metadata": {},
   "source": [
    "<a name='p2' /></a>\n",
    "## 2. Modeling - Tuning\n"
   ]
  },
  {
   "cell_type": "markdown",
   "metadata": {},
   "source": [
    "#### NB"
   ]
  },
  {
   "cell_type": "code",
   "execution_count": 11,
   "metadata": {},
   "outputs": [
    {
     "data": {
      "text/plain": [
       "{'var_smoothing': 5.336699231206302e-08}"
      ]
     },
     "execution_count": 11,
     "metadata": {},
     "output_type": "execute_result"
    }
   ],
   "source": [
    "nb_classifier = GaussianNB()\n",
    "\n",
    "params_NB = {'var_smoothing': np.logspace(0,-9, num=100)}\n",
    "\n",
    "gs_NB = GridSearchCV(estimator=nb_classifier, \n",
    "                 param_grid=params_NB, \n",
    "                 cv=5,\n",
    "                 n_jobs = -1, \n",
    "                 scoring='roc_auc') \n",
    "\n",
    "gs_NB.fit(X_train_smote, y_train_smote)\n",
    "\n",
    "gs_NB.best_params_"
   ]
  },
  {
   "cell_type": "code",
   "execution_count": 12,
   "metadata": {},
   "outputs": [
    {
     "name": "stdout",
     "output_type": "stream",
     "text": [
      "Confusion Matrix: \n",
      "\n",
      "            Pred: 0  Pred: 1\n",
      "Actual: 0    10051      914\n",
      "Actual: 1      497      895\n",
      "\n",
      "\n",
      "AUC Score: 0.9051659603964547\n",
      "f1 Score: 0.7468060004780788\n"
     ]
    }
   ],
   "source": [
    "nb_2 = GaussianNB(var_smoothing = 5.336699231206302e-08)\n",
    "\n",
    "# build model\n",
    "cm_nb_2, auc_nb_2, f1_nb_2 = Clf_train(nb_2)\n",
    "\n",
    "print(\"Confusion Matrix: \\n\\n\", cm_nb_2)\n",
    "print(\"\\n\")\n",
    "print(f\"AUC Score: {auc_nb_2}\")\n",
    "print(f\"f1 Score: {f1_nb_2}\")"
   ]
  },
  {
   "cell_type": "markdown",
   "metadata": {},
   "source": [
    "#### LR"
   ]
  },
  {
   "cell_type": "code",
   "execution_count": 17,
   "metadata": {},
   "outputs": [
    {
     "name": "stderr",
     "output_type": "stream",
     "text": [
      "/Users/chenyiqiu/opt/anaconda3/lib/python3.7/site-packages/sklearn/model_selection/_search.py:921: UserWarning: One or more of the test scores are non-finite: [0.80698692 0.78130722 0.89001934        nan 0.78132603 0.98590538\n",
      " 0.80692572 0.78133901 0.88997814        nan 0.78137415 0.98563664\n",
      " 0.80694608 0.78133784 0.8895246         nan 0.78131807 0.9831459 ]\n",
      "  category=UserWarning\n"
     ]
    },
    {
     "data": {
      "text/plain": [
       "{'C': 0.05, 'penalty': 'l1', 'solver': 'liblinear'}"
      ]
     },
     "execution_count": 17,
     "metadata": {},
     "output_type": "execute_result"
    }
   ],
   "source": [
    "lr_classifier = LogisticRegression()\n",
    "#solver = 'saga', max_iter=1000\n",
    "params_LR = {\n",
    "            'solver':['sag', 'saga','liblinear'],\n",
    "            'penalty': ['l2','l1'],\n",
    "            #'C': [100, 10, 1.0, 0.1, 0.01]\n",
    "            'C': [0.05, 0.1, 0.3]\n",
    "}\n",
    "\n",
    "gs_LR = GridSearchCV(estimator=lr_classifier, \n",
    "                 param_grid=params_LR, \n",
    "                 cv=5,\n",
    "                 n_jobs = -1, \n",
    "                 scoring='roc_auc') \n",
    "\n",
    "gs_LR.fit(X_train_smote, y_train_smote)\n",
    "\n",
    "params_1 = gs_LR.best_params_\n",
    "params_1"
   ]
  },
  {
   "cell_type": "code",
   "execution_count": 19,
   "metadata": {},
   "outputs": [
    {
     "name": "stdout",
     "output_type": "stream",
     "text": [
      "Confusion Matrix: \n",
      "\n",
      "            Pred: 0  Pred: 1\n",
      "Actual: 0    10615      350\n",
      "Actual: 1      733      659\n",
      "\n",
      "\n",
      "AUC Score: 0.9338902909466379\n",
      "f1 Score: 0.7502006075278281\n"
     ]
    }
   ],
   "source": [
    "lr_2 = LogisticRegression(\n",
    "    solver = params_1['solver'],\n",
    "    #max_iter = 1000,\n",
    "    penalty = params_1['penalty'],\n",
    "    C = params_1['C']     \n",
    ")\n",
    "\n",
    "# build model\n",
    "cm_lr_2, auc_lr_2, f1_lr_2 = Clf_train(lr_2)\n",
    "\n",
    "print(\"Confusion Matrix: \\n\\n\", cm_lr_2)\n",
    "print(\"\\n\")\n",
    "print(f\"AUC Score: {auc_lr_2}\")\n",
    "print(f\"f1 Score: {f1_lr_2}\")"
   ]
  },
  {
   "cell_type": "markdown",
   "metadata": {},
   "source": [
    "####    RF"
   ]
  },
  {
   "cell_type": "code",
   "execution_count": 21,
   "metadata": {},
   "outputs": [
    {
     "data": {
      "text/plain": [
       "{'max_depth': None,\n",
       " 'min_samples_leaf': 1,\n",
       " 'min_samples_split': 3,\n",
       " 'n_estimators': 280}"
      ]
     },
     "execution_count": 21,
     "metadata": {},
     "output_type": "execute_result"
    }
   ],
   "source": [
    "rf_classifier = RandomForestClassifier()\n",
    "\n",
    "params_RF = {\n",
    "     'n_estimators': [220, 280],\n",
    "     'max_depth':[5, None], \n",
    "     'min_samples_split':[2, 3],\n",
    "     'min_samples_leaf':[1, 3],\n",
    "    \n",
    "}\n",
    "\n",
    "gs_RF = GridSearchCV(estimator=rf_classifier, \n",
    "                 param_grid=params_RF, \n",
    "                 cv=5,\n",
    "                 n_jobs = -1, \n",
    "                 scoring='roc_auc') \n",
    "\n",
    "gs_RF.fit(X_train_smote, y_train_smote)\n",
    "\n",
    "params_2 = gs_RF.best_params_\n",
    "params_2"
   ]
  },
  {
   "cell_type": "code",
   "execution_count": 22,
   "metadata": {},
   "outputs": [
    {
     "name": "stdout",
     "output_type": "stream",
     "text": [
      "Confusion Matrix: \n",
      "\n",
      "            Pred: 0  Pred: 1\n",
      "Actual: 0    10567      398\n",
      "Actual: 1      657      735\n",
      "\n",
      "\n",
      "AUC Score: 0.9403449324129545\n",
      "f1 Score: 0.7673160682150508\n"
     ]
    }
   ],
   "source": [
    "rf_2 = RandomForestClassifier(\n",
    "    n_estimators = params_2['n_estimators'],\n",
    "    max_depth = params_2['max_depth'],\n",
    "    min_samples_split = params_2['min_samples_split'],\n",
    "    min_samples_leaf = params_2['min_samples_leaf']\n",
    ")\n",
    "\n",
    "# build model\n",
    "cm_rf_2, auc_rf_2, f1_rf_2 = Clf_train(rf_2)\n",
    "\n",
    "print(\"Confusion Matrix: \\n\\n\", cm_rf_2)\n",
    "print(\"\\n\")\n",
    "print(f\"AUC Score: {auc_rf_2}\")\n",
    "print(f\"f1 Score: {f1_rf_2}\")"
   ]
  },
  {
   "cell_type": "markdown",
   "metadata": {},
   "source": [
    "#### XGB"
   ]
  },
  {
   "cell_type": "code",
   "execution_count": 23,
   "metadata": {},
   "outputs": [
    {
     "data": {
      "text/plain": [
       "{'colsample_bytree': 0.5,\n",
       " 'eta': 0.1,\n",
       " 'gamma': 0,\n",
       " 'max_depth': 8,\n",
       " 'min_child_weight': 1,\n",
       " 'subsample': 0.5}"
      ]
     },
     "execution_count": 23,
     "metadata": {},
     "output_type": "execute_result"
    }
   ],
   "source": [
    "xgb_classifier = XGBClassifier(eta = 0.1)\n",
    "\n",
    "params_XGB = {\n",
    "    'eta':[0.1,0.3],\n",
    "    'subsample':[0.5,1],\n",
    "    'colsample_bytree':[0.5, 1],\n",
    "    'gamma':[0, 2],\n",
    "    'max_depth':[6, 8],\n",
    "    'min_child_weight':[1,3]\n",
    "}\n",
    "\n",
    "gs_XGB = GridSearchCV(estimator=xgb_classifier, \n",
    "                 param_grid=params_XGB, \n",
    "                 cv=5,\n",
    "                 n_jobs = -1, \n",
    "                 scoring='roc_auc') \n",
    "\n",
    "gs_XGB.fit(X_train_smote, y_train_smote)\n",
    "\n",
    "params_3 = gs_XGB.best_params_\n",
    "params_3"
   ]
  },
  {
   "cell_type": "code",
   "execution_count": 24,
   "metadata": {},
   "outputs": [
    {
     "name": "stdout",
     "output_type": "stream",
     "text": [
      "Confusion Matrix: \n",
      "\n",
      "            Pred: 0  Pred: 1\n",
      "Actual: 0    10516      449\n",
      "Actual: 1      603      789\n",
      "\n",
      "\n",
      "AUC Score: 0.9450584998768286\n",
      "f1 Score: 0.7761818511139287\n"
     ]
    }
   ],
   "source": [
    "xgb_2 = XGBClassifier(\n",
    "    eta = params_3['eta'],\n",
    "    min_child_weight = params_3['min_child_weight'],\n",
    "    gamma = params_3['gamma'],\n",
    "    subsample = params_3['subsample'],\n",
    "    colsample_bytree = params_3['colsample_bytree'],\n",
    "    max_depth = params_3['max_depth']\n",
    ")\n",
    "\n",
    "# build model\n",
    "cm_xgb_2,auc_xgb_2, f1_xgb_2 = Clf_train(xgb_2)\n",
    "\n",
    "print(\"Confusion Matrix: \\n\\n\", cm_xgb_2)\n",
    "print(\"\\n\")\n",
    "print(f\"AUC Score: {auc_xgb_2}\")\n",
    "print(f\"f1 Score: {f1_xgb_2}\")"
   ]
  },
  {
   "cell_type": "markdown",
   "metadata": {},
   "source": [
    "#### LGBM"
   ]
  },
  {
   "cell_type": "code",
   "execution_count": 43,
   "metadata": {},
   "outputs": [
    {
     "data": {
      "text/plain": [
       "{'learning_rate': 0.1, 'reg_alpha': 0.7, 'reg_lambda': 0.7}"
      ]
     },
     "execution_count": 43,
     "metadata": {},
     "output_type": "execute_result"
    }
   ],
   "source": [
    "lgbm_classifier = LGBMClassifier()\n",
    "\n",
    "params_lgbm = {\n",
    "    'learning_rate' : [0.05,0.1],\n",
    "    #'max_depth':[6,10],\n",
    "    #'min_child_samples': [23, 26],\n",
    "    #'feature_fraction': [0.3, 0.4],\n",
    "    #'num_leaves': [100,150],\n",
    "    #'subsample': [0.4, 0.8], \n",
    "    #'colsample_bytree': [0.4, 0.6],\n",
    "    'reg_alpha':[0.4,0.7],\n",
    "    'reg_lambda':[0.4,0.7]\n",
    "\n",
    "}\n",
    "\n",
    "gs_lgbm = GridSearchCV(estimator=lgbm_classifier, \n",
    "                 param_grid=params_lgbm, \n",
    "                 cv=5,\n",
    "                 n_jobs = -1, \n",
    "                 scoring='roc_auc') \n",
    "\n",
    "gs_lgbm.fit(X_train_smote, y_train_smote)\n",
    "\n",
    "params_4 = gs_lgbm.best_params_\n",
    "params_4"
   ]
  },
  {
   "cell_type": "code",
   "execution_count": 44,
   "metadata": {},
   "outputs": [
    {
     "name": "stdout",
     "output_type": "stream",
     "text": [
      "Confusion Matrix: \n",
      "\n",
      "            Pred: 0  Pred: 1\n",
      "Actual: 0    10514      451\n",
      "Actual: 1      580      812\n",
      "\n",
      "\n",
      "AUC Score: 0.9483368581327212\n",
      "f1 Score: 0.7824688950510995\n"
     ]
    }
   ],
   "source": [
    "lgbm_2 = LGBMClassifier(\n",
    "    learning_rate = params_4['learning_rate'],\n",
    "    #colsample_bytree = params_4['colsample_bytree'],\n",
    "    #feature_fraction = params_4['feature_fraction'],\n",
    "    #num_leaves = params_4['num_leaves'],\n",
    "    #subsample = params_4['subsample'],\n",
    "    #max_depth = params_4['max_depth']\n",
    "    #min_child_samples = params_4['min_child_samples'],\n",
    "    reg_alpha = params_4['reg_alpha'],\n",
    "    reg_lambda = params_4['reg_lambda']\n",
    ")\n",
    "\n",
    "cm_lgbm_2, auc_lgbm_2,f1_lgbm_2 = Clf_train(lgbm_2)\n",
    "\n",
    "print(\"Confusion Matrix: \\n\\n\", cm_lgbm_2)\n",
    "print(\"\\n\")\n",
    "print(f\"AUC Score: {auc_lgbm_2}\")\n",
    "print(f\"f1 Score: {f1_lgbm_2}\")"
   ]
  },
  {
   "cell_type": "markdown",
   "metadata": {},
   "source": [
    "<a name='p3' /></a>\n",
    "## 3. Modeling - Stacking"
   ]
  },
  {
   "cell_type": "code",
   "execution_count": 46,
   "metadata": {},
   "outputs": [],
   "source": [
    "# tuned models\n",
    "nb_2 = GaussianNB(var_smoothing = 5.336699231206302e-08)\n",
    "lr_2 = LogisticRegression(\n",
    "    solver = params_1['solver'],\n",
    "    #max_iter = 1000,\n",
    "    penalty = params_1['penalty'],\n",
    "    C = params_1['C']     \n",
    ")\n",
    "rf_2 = RandomForestClassifier(\n",
    "     n_estimators = params_2['n_estimators'],\n",
    "    max_depth = params_2['max_depth'],\n",
    "    min_samples_split = params_2['min_samples_split'],\n",
    "    min_samples_leaf = params_2['min_samples_leaf']\n",
    ")\n",
    "xgb_2 = XGBClassifier(\n",
    "    eta = params_3['eta'],\n",
    "    min_child_weight = params_3['min_child_weight'],\n",
    "    gamma = params_3['gamma'],\n",
    "    subsample = params_3['subsample'],\n",
    "    colsample_bytree = params_3['colsample_bytree'],\n",
    "    max_depth = params_3['max_depth']\n",
    ")\n",
    "lgbm_2 = LGBMClassifier(\n",
    "    learning_rate = params_4['learning_rate'],\n",
    "    #colsample_bytree = params_4['colsample_bytree'],\n",
    "    #feature_fraction = params_4['feature_fraction'],\n",
    "    #num_leaves = params_4['num_leaves'],\n",
    "    #subsample = params_4['subsample'],\n",
    "    #max_depth = params_4['max_depth']\n",
    "    #min_child_samples = params_4['min_child_samples'],\n",
    "    reg_alpha = params_4['reg_alpha'],\n",
    "    reg_lambda = params_4['reg_lambda']\n",
    ")"
   ]
  },
  {
   "cell_type": "code",
   "execution_count": 47,
   "metadata": {},
   "outputs": [],
   "source": [
    "# get a stacking ensemble of models\n",
    "def get_model():\n",
    "    # define the level-0 base models with tuned paramters\n",
    "    level0 = []\n",
    "    level0.append(('lr', lr_2))\n",
    "    level0.append(('nb', nb_2))\n",
    "    level0.append(('rf', rf_2))\n",
    "    level0.append(('xgb', xgb_2))\n",
    "    level0.append(('lgbm', lgbm_2))\n",
    "    # define level-1 meta learner model\n",
    "    level1 = LogisticRegression()\n",
    "    # define the stacking ensemble\n",
    "    model = StackingClassifier(estimators=level0, final_estimator=level1)\n",
    "    return model"
   ]
  },
  {
   "cell_type": "code",
   "execution_count": 48,
   "metadata": {},
   "outputs": [
    {
     "name": "stdout",
     "output_type": "stream",
     "text": [
      "Confusion Matrix: \n",
      "\n",
      "            Pred: 0  Pred: 1\n",
      "Actual: 0    10448      517\n",
      "Actual: 1      674      718\n",
      "\n",
      "\n",
      "AUC Score: 0.9183287602664696\n",
      "f1 Score: 0.7463540079909278\n"
     ]
    }
   ],
   "source": [
    "stacking_model = get_model()\n",
    "\n",
    "cm_stk, auc_stk, f1_stk= Clf_train(stacking_model)\n",
    "\n",
    "print(\"Confusion Matrix: \\n\\n\", cm_stk)\n",
    "print(\"\\n\")\n",
    "print(f\"AUC Score: {auc_stk}\")\n",
    "print(f\"f1 Score: {f1_stk}\")"
   ]
  },
  {
   "cell_type": "code",
   "execution_count": null,
   "metadata": {},
   "outputs": [],
   "source": []
  }
 ],
 "metadata": {
  "kernelspec": {
   "display_name": "Python 3",
   "language": "python",
   "name": "python3"
  },
  "language_info": {
   "codemirror_mode": {
    "name": "ipython",
    "version": 3
   },
   "file_extension": ".py",
   "mimetype": "text/x-python",
   "name": "python",
   "nbconvert_exporter": "python",
   "pygments_lexer": "ipython3",
   "version": "3.7.6"
  }
 },
 "nbformat": 4,
 "nbformat_minor": 4
}
