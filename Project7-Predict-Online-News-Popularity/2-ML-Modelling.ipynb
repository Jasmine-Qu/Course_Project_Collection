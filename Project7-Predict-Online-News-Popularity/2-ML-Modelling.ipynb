{
 "cells": [
  {
   "cell_type": "markdown",
   "metadata": {},
   "source": [
    "### Library"
   ]
  },
  {
   "cell_type": "code",
   "execution_count": 1,
   "metadata": {},
   "outputs": [],
   "source": [
    "import numpy as np\n",
    "import pandas as pd\n",
    "import matplotlib.pyplot as plt\n",
    "import seaborn as sns\n",
    "%matplotlib inline\n",
    "\n",
    "\n",
    "# Machine Learning Models\n",
    "from sklearn.linear_model import LogisticRegression\n",
    "from sklearn.ensemble import RandomForestClassifier\n",
    "from xgboost import XGBClassifier\n",
    "from sklearn.naive_bayes import GaussianNB\n",
    "from sklearn.svm import SVC\n",
    "from sklearn.ensemble import AdaBoostClassifier\n",
    "from lightgbm import LGBMClassifier\n",
    "\n",
    "# Resampling\n",
    "from imblearn.over_sampling import SMOTE\n",
    "from imblearn.under_sampling import RandomUnderSampler\n",
    "from imblearn.over_sampling import RandomOverSampler\n",
    "\n",
    "\n",
    "# Preprocessing\n",
    "from sklearn.preprocessing import StandardScaler\n",
    "from sklearn.preprocessing import OneHotEncoder\n",
    "\n",
    "# Feature selection\n",
    "from sklearn.model_selection import train_test_split\n",
    "from sklearn.feature_selection import SelectFromModel\n",
    "\n",
    "# Tuning\n",
    "from sklearn.model_selection import GridSearchCV\n",
    "from sklearn.pipeline import Pipeline\n",
    "from skopt import BayesSearchCV\n",
    "from skopt.space import Real, Categorical, Integer\n",
    "\n",
    "# Evaluation\n",
    "from sklearn.metrics import f1_score, accuracy_score,confusion_matrix,classification_report\n",
    "\n",
    "# Deep Learning Model\n",
    "from keras.models import Sequential\n",
    "from keras.layers import Dense,Dropout\n",
    "from keras.utils import to_categorical\n",
    "from keras.optimizers import Adam\n",
    "from keras.wrappers.scikit_learn import KerasClassifier\n",
    "\n",
    "plt.style.use('seaborn')"
   ]
  },
  {
   "cell_type": "markdown",
   "metadata": {},
   "source": [
    "## 1. Read Data"
   ]
  },
  {
   "cell_type": "code",
   "execution_count": 2,
   "metadata": {},
   "outputs": [],
   "source": [
    "data = pd.read_csv('OnlineNewsPopularity.csv')"
   ]
  },
  {
   "cell_type": "code",
   "execution_count": 3,
   "metadata": {},
   "outputs": [],
   "source": [
    "data.columns=data.columns.str.replace(' ','')"
   ]
  },
  {
   "cell_type": "code",
   "execution_count": 4,
   "metadata": {},
   "outputs": [],
   "source": [
    "bins = [0, 1400, 10000, np.inf]\n",
    "data['category'] = pd.cut(data['shares'], bins, \n",
    "                          labels = ['Unpopular','Popular','Extremly_popular'])"
   ]
  },
  {
   "cell_type": "code",
   "execution_count": 5,
   "metadata": {
    "scrolled": true
   },
   "outputs": [
    {
     "data": {
      "text/html": [
       "<div>\n",
       "<style scoped>\n",
       "    .dataframe tbody tr th:only-of-type {\n",
       "        vertical-align: middle;\n",
       "    }\n",
       "\n",
       "    .dataframe tbody tr th {\n",
       "        vertical-align: top;\n",
       "    }\n",
       "\n",
       "    .dataframe thead th {\n",
       "        text-align: right;\n",
       "    }\n",
       "</style>\n",
       "<table border=\"1\" class=\"dataframe\">\n",
       "  <thead>\n",
       "    <tr style=\"text-align: right;\">\n",
       "      <th></th>\n",
       "      <th>url</th>\n",
       "      <th>timedelta</th>\n",
       "      <th>n_tokens_title</th>\n",
       "      <th>n_tokens_content</th>\n",
       "      <th>n_unique_tokens</th>\n",
       "      <th>n_non_stop_words</th>\n",
       "      <th>n_non_stop_unique_tokens</th>\n",
       "      <th>num_hrefs</th>\n",
       "      <th>num_self_hrefs</th>\n",
       "      <th>num_imgs</th>\n",
       "      <th>...</th>\n",
       "      <th>max_positive_polarity</th>\n",
       "      <th>avg_negative_polarity</th>\n",
       "      <th>min_negative_polarity</th>\n",
       "      <th>max_negative_polarity</th>\n",
       "      <th>title_subjectivity</th>\n",
       "      <th>title_sentiment_polarity</th>\n",
       "      <th>abs_title_subjectivity</th>\n",
       "      <th>abs_title_sentiment_polarity</th>\n",
       "      <th>shares</th>\n",
       "      <th>category</th>\n",
       "    </tr>\n",
       "  </thead>\n",
       "  <tbody>\n",
       "    <tr>\n",
       "      <th>0</th>\n",
       "      <td>http://mashable.com/2013/01/07/amazon-instant-...</td>\n",
       "      <td>731.0</td>\n",
       "      <td>12.0</td>\n",
       "      <td>219.0</td>\n",
       "      <td>0.663594</td>\n",
       "      <td>1.0</td>\n",
       "      <td>0.815385</td>\n",
       "      <td>4.0</td>\n",
       "      <td>2.0</td>\n",
       "      <td>1.0</td>\n",
       "      <td>...</td>\n",
       "      <td>0.7</td>\n",
       "      <td>-0.350000</td>\n",
       "      <td>-0.600</td>\n",
       "      <td>-0.200000</td>\n",
       "      <td>0.500000</td>\n",
       "      <td>-0.187500</td>\n",
       "      <td>0.000000</td>\n",
       "      <td>0.187500</td>\n",
       "      <td>593</td>\n",
       "      <td>Unpopular</td>\n",
       "    </tr>\n",
       "    <tr>\n",
       "      <th>1</th>\n",
       "      <td>http://mashable.com/2013/01/07/ap-samsung-spon...</td>\n",
       "      <td>731.0</td>\n",
       "      <td>9.0</td>\n",
       "      <td>255.0</td>\n",
       "      <td>0.604743</td>\n",
       "      <td>1.0</td>\n",
       "      <td>0.791946</td>\n",
       "      <td>3.0</td>\n",
       "      <td>1.0</td>\n",
       "      <td>1.0</td>\n",
       "      <td>...</td>\n",
       "      <td>0.7</td>\n",
       "      <td>-0.118750</td>\n",
       "      <td>-0.125</td>\n",
       "      <td>-0.100000</td>\n",
       "      <td>0.000000</td>\n",
       "      <td>0.000000</td>\n",
       "      <td>0.500000</td>\n",
       "      <td>0.000000</td>\n",
       "      <td>711</td>\n",
       "      <td>Unpopular</td>\n",
       "    </tr>\n",
       "    <tr>\n",
       "      <th>2</th>\n",
       "      <td>http://mashable.com/2013/01/07/apple-40-billio...</td>\n",
       "      <td>731.0</td>\n",
       "      <td>9.0</td>\n",
       "      <td>211.0</td>\n",
       "      <td>0.575130</td>\n",
       "      <td>1.0</td>\n",
       "      <td>0.663866</td>\n",
       "      <td>3.0</td>\n",
       "      <td>1.0</td>\n",
       "      <td>1.0</td>\n",
       "      <td>...</td>\n",
       "      <td>1.0</td>\n",
       "      <td>-0.466667</td>\n",
       "      <td>-0.800</td>\n",
       "      <td>-0.133333</td>\n",
       "      <td>0.000000</td>\n",
       "      <td>0.000000</td>\n",
       "      <td>0.500000</td>\n",
       "      <td>0.000000</td>\n",
       "      <td>1500</td>\n",
       "      <td>Popular</td>\n",
       "    </tr>\n",
       "    <tr>\n",
       "      <th>3</th>\n",
       "      <td>http://mashable.com/2013/01/07/astronaut-notre...</td>\n",
       "      <td>731.0</td>\n",
       "      <td>9.0</td>\n",
       "      <td>531.0</td>\n",
       "      <td>0.503788</td>\n",
       "      <td>1.0</td>\n",
       "      <td>0.665635</td>\n",
       "      <td>9.0</td>\n",
       "      <td>0.0</td>\n",
       "      <td>1.0</td>\n",
       "      <td>...</td>\n",
       "      <td>0.8</td>\n",
       "      <td>-0.369697</td>\n",
       "      <td>-0.600</td>\n",
       "      <td>-0.166667</td>\n",
       "      <td>0.000000</td>\n",
       "      <td>0.000000</td>\n",
       "      <td>0.500000</td>\n",
       "      <td>0.000000</td>\n",
       "      <td>1200</td>\n",
       "      <td>Unpopular</td>\n",
       "    </tr>\n",
       "    <tr>\n",
       "      <th>4</th>\n",
       "      <td>http://mashable.com/2013/01/07/att-u-verse-apps/</td>\n",
       "      <td>731.0</td>\n",
       "      <td>13.0</td>\n",
       "      <td>1072.0</td>\n",
       "      <td>0.415646</td>\n",
       "      <td>1.0</td>\n",
       "      <td>0.540890</td>\n",
       "      <td>19.0</td>\n",
       "      <td>19.0</td>\n",
       "      <td>20.0</td>\n",
       "      <td>...</td>\n",
       "      <td>1.0</td>\n",
       "      <td>-0.220192</td>\n",
       "      <td>-0.500</td>\n",
       "      <td>-0.050000</td>\n",
       "      <td>0.454545</td>\n",
       "      <td>0.136364</td>\n",
       "      <td>0.045455</td>\n",
       "      <td>0.136364</td>\n",
       "      <td>505</td>\n",
       "      <td>Unpopular</td>\n",
       "    </tr>\n",
       "  </tbody>\n",
       "</table>\n",
       "<p>5 rows × 62 columns</p>\n",
       "</div>"
      ],
      "text/plain": [
       "                                                 url  timedelta  \\\n",
       "0  http://mashable.com/2013/01/07/amazon-instant-...      731.0   \n",
       "1  http://mashable.com/2013/01/07/ap-samsung-spon...      731.0   \n",
       "2  http://mashable.com/2013/01/07/apple-40-billio...      731.0   \n",
       "3  http://mashable.com/2013/01/07/astronaut-notre...      731.0   \n",
       "4   http://mashable.com/2013/01/07/att-u-verse-apps/      731.0   \n",
       "\n",
       "   n_tokens_title  n_tokens_content  n_unique_tokens  n_non_stop_words  \\\n",
       "0            12.0             219.0         0.663594               1.0   \n",
       "1             9.0             255.0         0.604743               1.0   \n",
       "2             9.0             211.0         0.575130               1.0   \n",
       "3             9.0             531.0         0.503788               1.0   \n",
       "4            13.0            1072.0         0.415646               1.0   \n",
       "\n",
       "   n_non_stop_unique_tokens  num_hrefs  num_self_hrefs  num_imgs  ...  \\\n",
       "0                  0.815385        4.0             2.0       1.0  ...   \n",
       "1                  0.791946        3.0             1.0       1.0  ...   \n",
       "2                  0.663866        3.0             1.0       1.0  ...   \n",
       "3                  0.665635        9.0             0.0       1.0  ...   \n",
       "4                  0.540890       19.0            19.0      20.0  ...   \n",
       "\n",
       "   max_positive_polarity  avg_negative_polarity  min_negative_polarity  \\\n",
       "0                    0.7              -0.350000                 -0.600   \n",
       "1                    0.7              -0.118750                 -0.125   \n",
       "2                    1.0              -0.466667                 -0.800   \n",
       "3                    0.8              -0.369697                 -0.600   \n",
       "4                    1.0              -0.220192                 -0.500   \n",
       "\n",
       "   max_negative_polarity  title_subjectivity  title_sentiment_polarity  \\\n",
       "0              -0.200000            0.500000                 -0.187500   \n",
       "1              -0.100000            0.000000                  0.000000   \n",
       "2              -0.133333            0.000000                  0.000000   \n",
       "3              -0.166667            0.000000                  0.000000   \n",
       "4              -0.050000            0.454545                  0.136364   \n",
       "\n",
       "   abs_title_subjectivity  abs_title_sentiment_polarity  shares   category  \n",
       "0                0.000000                      0.187500     593  Unpopular  \n",
       "1                0.500000                      0.000000     711  Unpopular  \n",
       "2                0.500000                      0.000000    1500    Popular  \n",
       "3                0.500000                      0.000000    1200  Unpopular  \n",
       "4                0.045455                      0.136364     505  Unpopular  \n",
       "\n",
       "[5 rows x 62 columns]"
      ]
     },
     "execution_count": 5,
     "metadata": {},
     "output_type": "execute_result"
    }
   ],
   "source": [
    "data.head()"
   ]
  },
  {
   "cell_type": "markdown",
   "metadata": {},
   "source": [
    "## 2. Modelling"
   ]
  },
  {
   "cell_type": "markdown",
   "metadata": {},
   "source": [
    "<a href=#p1>2.1 Baseline</a>\n",
    "\n",
    "<a href=#p2>2.2 Feature Selection</a>\n",
    "\n",
    "<a href=#p3>2.3 Feature Selection + UnderSampling</a>\n",
    "\n",
    "<a href=#p4>2.4 Feature Selection + OverSampling</a>\n",
    "\n",
    "<a href=#p5>2.5 Feature Selection + Model Tuning</a>"
   ]
  },
  {
   "cell_type": "markdown",
   "metadata": {},
   "source": [
    "#### Split train and test set"
   ]
  },
  {
   "cell_type": "code",
   "execution_count": 6,
   "metadata": {},
   "outputs": [],
   "source": [
    "X = data.drop(['url','timedelta','category','shares'],axis=1)\n",
    "y = data['category']"
   ]
  },
  {
   "cell_type": "code",
   "execution_count": 7,
   "metadata": {},
   "outputs": [],
   "source": [
    "X_train, X_test, y_train, y_test = train_test_split(X, y, stratify=y, test_size=0.2, random_state=2021)"
   ]
  },
  {
   "cell_type": "markdown",
   "metadata": {},
   "source": [
    "#### Scaling data"
   ]
  },
  {
   "cell_type": "code",
   "execution_count": 8,
   "metadata": {},
   "outputs": [],
   "source": [
    "numerical_features = ['n_tokens_title', 'n_tokens_content',\n",
    "       'n_unique_tokens', 'n_non_stop_words', 'n_non_stop_unique_tokens',\n",
    "       'num_hrefs', 'num_self_hrefs', 'num_imgs', 'num_videos',\n",
    "       'average_token_length', 'num_keywords','kw_min_min', 'kw_max_min', 'kw_avg_min',\n",
    "       'kw_min_max', 'kw_max_max', 'kw_avg_max', 'kw_min_avg', 'kw_max_avg',\n",
    "       'kw_avg_avg', 'self_reference_min_shares', 'self_reference_max_shares',\n",
    "       'self_reference_avg_sharess','LDA_00',\n",
    "       'LDA_01', 'LDA_02', 'LDA_03', 'LDA_04', 'global_subjectivity',\n",
    "       'global_sentiment_polarity', 'global_rate_positive_words',\n",
    "       'global_rate_negative_words', 'rate_positive_words',\n",
    "       'rate_negative_words', 'avg_positive_polarity', 'min_positive_polarity',\n",
    "       'max_positive_polarity', 'avg_negative_polarity',\n",
    "       'min_negative_polarity', 'max_negative_polarity', 'title_subjectivity',\n",
    "       'title_sentiment_polarity', 'abs_title_subjectivity',\n",
    "       'abs_title_sentiment_polarity']"
   ]
  },
  {
   "cell_type": "code",
   "execution_count": 9,
   "metadata": {},
   "outputs": [],
   "source": [
    "X_train_norm = X_train.copy()\n",
    "X_test_norm = X_test.copy()\n",
    "\n",
    "scaler = StandardScaler()\n",
    "scaler.fit(X_train[numerical_features])\n",
    "X_train_norm[numerical_features] = scaler.transform(X_train[numerical_features])\n",
    "X_test_norm[numerical_features] = scaler.transform(X_test_norm[numerical_features])"
   ]
  },
  {
   "cell_type": "markdown",
   "metadata": {},
   "source": [
    "<a name='p1' /></a>\n",
    "## 2.1 Baseline"
   ]
  },
  {
   "cell_type": "markdown",
   "metadata": {},
   "source": [
    "#### NB & XGBoost"
   ]
  },
  {
   "cell_type": "code",
   "execution_count": 18,
   "metadata": {},
   "outputs": [],
   "source": [
    "def model_fit(X_train_df,y_train_df,X_test_df):\n",
    "    models = {\n",
    "    \"GaussianNB\": GaussianNB(),\n",
    "\n",
    "    \"XGBooostClassifier\": XGBClassifier()\n",
    "    }\n",
    "\n",
    "    prediction = dict()\n",
    "    score_map = {}\n",
    "    f1_map = {}\n",
    "\n",
    "    for model_name in models:\n",
    "        model = models[model_name]\n",
    "        model.fit(X_train_df, y_train_df)\n",
    "        prediction[model_name] = model.predict(X_test_df)\n",
    "        score = accuracy_score(y_test, prediction[model_name])\n",
    "        f1 = f1_score(y_test, prediction[model_name], average='macro')\n",
    "        score_map[model_name] = score\n",
    "        f1_map[model_name] = f1\n",
    "        print(\"{}{}{}\".format(model_name, \" accuracy: \", score))\n",
    "        print(\"{}{}{}\".format(model_name, \" f1 score: \", f1))"
   ]
  },
  {
   "cell_type": "code",
   "execution_count": 19,
   "metadata": {},
   "outputs": [
    {
     "name": "stdout",
     "output_type": "stream",
     "text": [
      "GaussianNB accuracy: 0.4919914238869971\n",
      "GaussianNB f1 score: 0.3125687280412231\n",
      "XGBooostClassifier accuracy: 0.609030142514819\n",
      "XGBooostClassifier f1 score: 0.4277242447948552\n"
     ]
    }
   ],
   "source": [
    "model_fit(X_train_norm,y_train,X_test_norm)"
   ]
  },
  {
   "cell_type": "markdown",
   "metadata": {},
   "source": [
    "#### Logistic "
   ]
  },
  {
   "cell_type": "code",
   "execution_count": 16,
   "metadata": {},
   "outputs": [],
   "source": [
    "logistic = LogisticRegression(random_state=2021,class_weight='balanced',solver='liblinear')\n",
    "logistic_result = logistic.fit(X_train_norm, y_train)\n",
    "y_pred = logistic_result.predict(X_test_norm)"
   ]
  },
  {
   "cell_type": "code",
   "execution_count": 22,
   "metadata": {},
   "outputs": [
    {
     "name": "stdout",
     "output_type": "stream",
     "text": [
      "              precision    recall  f1-score   support\n",
      "\n",
      "           0       0.64      0.68      0.66      4017\n",
      "           1       0.60      0.51      0.55      3475\n",
      "           2       0.15      0.26      0.19       437\n",
      "\n",
      "    accuracy                           0.58      7929\n",
      "   macro avg       0.47      0.48      0.47      7929\n",
      "weighted avg       0.60      0.58      0.59      7929\n",
      "\n",
      "accuracy: 0.5821667297263211\n",
      "F1-score: 0.4677707725104985\n"
     ]
    }
   ],
   "source": [
    "print(classification_report(y_test, y_pred))\n",
    "print(\"accuracy:\", logistic_result.score(X_test_norm,y_test))\n",
    "print(\"F1-score:\", f1_score(y_test, y_pred, average='macro'))"
   ]
  },
  {
   "cell_type": "markdown",
   "metadata": {},
   "source": [
    "#### Random Forest"
   ]
  },
  {
   "cell_type": "code",
   "execution_count": 25,
   "metadata": {},
   "outputs": [
    {
     "name": "stdout",
     "output_type": "stream",
     "text": [
      "accuracy: 0.6148316307226637\n",
      "F1-score: 0.4212579027858798\n"
     ]
    }
   ],
   "source": [
    "rf= RandomForestClassifier(random_state=0,class_weight='balanced')\n",
    "rf_result = rf.fit(X_train_norm, y_train)\n",
    "y_pred1 = rf_result.predict(X_test_norm)\n",
    "\n",
    "print(\"accuracy:\",rf_result.score(X_test_norm,y_test))\n",
    "print(\"F1-score:\", f1_score(y_test, y_pred1, average='macro'))"
   ]
  },
  {
   "cell_type": "markdown",
   "metadata": {},
   "source": [
    "#### AdaBoost"
   ]
  },
  {
   "cell_type": "code",
   "execution_count": 11,
   "metadata": {},
   "outputs": [],
   "source": [
    "ada_model = AdaBoostClassifier(random_state=2021)\n",
    "ada_result = ada_model.fit(X_train_norm, y_train)\n",
    "y_pred = ada_result.predict(X_test_norm)"
   ]
  },
  {
   "cell_type": "code",
   "execution_count": 13,
   "metadata": {
    "scrolled": true
   },
   "outputs": [
    {
     "name": "stdout",
     "output_type": "stream",
     "text": [
      "accuracy: 0.6100390969857485\n",
      "F1-score: 0.4231520237821125\n"
     ]
    }
   ],
   "source": [
    "print(\"accuracy:\", ada_result.score(X_test_norm,y_test))\n",
    "print(\"F1-score:\", f1_score(y_test, y_pred, average='macro'))"
   ]
  },
  {
   "cell_type": "markdown",
   "metadata": {},
   "source": [
    "<a name='p2' /></a>\n",
    "## 2.2 Feature Selection"
   ]
  },
  {
   "cell_type": "markdown",
   "metadata": {},
   "source": [
    "#### Use multiple models to select key features by importance"
   ]
  },
  {
   "cell_type": "code",
   "execution_count": 35,
   "metadata": {},
   "outputs": [
    {
     "name": "stdout",
     "output_type": "stream",
     "text": [
      "Logistic: done\n",
      "RandomForestClassifier: done\n",
      "SupportVectorClassifier: done\n",
      "XGBooostClassifier: done\n",
      "AdaBoostClassifier: done\n",
      "LightGBMClassifier: done\n"
     ]
    }
   ],
   "source": [
    "models = {\n",
    "    \"Logistic\": LogisticRegression(solver='liblinear'),\n",
    "    \n",
    "    \"RandomForestClassifier\":RandomForestClassifier(),\n",
    "    \n",
    "    \"SupportVectorClassifier\":SVC(kernel='linear'),\n",
    "    \n",
    "    #\"GaussianNB\": GaussianNB(),\n",
    "\n",
    "    \"XGBooostClassifier\": XGBClassifier(),\n",
    "    \n",
    "    \"AdaBoostClassifier\":AdaBoostClassifier(),\n",
    "    \n",
    "    \"LightGBMClassifier\": LGBMClassifier()\n",
    "\n",
    "}\n",
    "\n",
    "\n",
    "feature_selection = {}\n",
    "feature_names = np.array(X_train_norm.columns)\n",
    "\n",
    "for model_name in models:\n",
    "    model = models[model_name]\n",
    "    selector = SelectFromModel(estimator=model,threshold=-1, max_features=25).fit(X_train_norm, y_train)\n",
    "    feature_selection[model_name] = feature_names[selector.get_support()]\n",
    "    print(\"{}{}{}\".format(model_name, \": \", 'done'))"
   ]
  },
  {
   "cell_type": "markdown",
   "metadata": {},
   "source": [
    "#### select features using model votes >=3"
   ]
  },
  {
   "cell_type": "code",
   "execution_count": 36,
   "metadata": {
    "scrolled": false
   },
   "outputs": [
    {
     "data": {
      "text/plain": [
       "['LDA_00',\n",
       " 'n_unique_tokens',\n",
       " 'kw_avg_avg',\n",
       " 'kw_max_avg',\n",
       " 'n_non_stop_unique_tokens',\n",
       " 'kw_avg_min',\n",
       " 'self_reference_min_shares',\n",
       " 'global_subjectivity',\n",
       " 'data_channel_is_tech',\n",
       " 'kw_avg_max',\n",
       " 'kw_min_avg',\n",
       " 'LDA_02',\n",
       " 'data_channel_is_socmed',\n",
       " 'average_token_length',\n",
       " 'is_weekend',\n",
       " 'kw_min_min',\n",
       " 'LDA_01',\n",
       " 'self_reference_avg_sharess',\n",
       " 'LDA_03',\n",
       " 'data_channel_is_entertainment',\n",
       " 'n_non_stop_words',\n",
       " 'kw_max_min',\n",
       " 'num_imgs',\n",
       " 'data_channel_is_lifestyle',\n",
       " 'data_channel_is_world',\n",
       " 'data_channel_is_bus',\n",
       " 'num_hrefs',\n",
       " 'weekday_is_saturday']"
      ]
     },
     "execution_count": 36,
     "metadata": {},
     "output_type": "execute_result"
    }
   ],
   "source": [
    "feature_count = dict(zip(feature_names,np.zeros(len(feature_names))))\n",
    "for i in feature_names:\n",
    "    for j in feature_selection:\n",
    "        if i in feature_selection[j]:\n",
    "            feature_count[i]+=1\n",
    "feature_count = pd.Series(feature_count).sort_values(ascending=False)\n",
    "\n",
    "# select by feature count\n",
    "features_selected = feature_count[feature_count>=3].index.tolist()\n",
    "\n",
    "features_selected"
   ]
  },
  {
   "cell_type": "code",
   "execution_count": 10,
   "metadata": {},
   "outputs": [],
   "source": [
    "features_selected=['LDA_00',\n",
    " 'n_unique_tokens',\n",
    " 'kw_avg_avg',\n",
    " 'kw_max_avg',\n",
    " 'n_non_stop_unique_tokens',\n",
    " 'kw_avg_min',\n",
    " 'self_reference_min_shares',\n",
    " 'global_subjectivity',\n",
    " 'data_channel_is_tech',\n",
    " 'kw_avg_max',\n",
    " 'kw_min_avg',\n",
    " 'LDA_02',\n",
    " 'data_channel_is_socmed',\n",
    " 'average_token_length',\n",
    " 'is_weekend',\n",
    " 'kw_min_min',\n",
    " 'LDA_01',\n",
    " 'self_reference_avg_sharess',\n",
    " 'LDA_03',\n",
    " 'data_channel_is_entertainment',\n",
    " 'n_non_stop_words',\n",
    " 'kw_max_min',\n",
    " 'num_imgs',\n",
    " 'data_channel_is_lifestyle',\n",
    " 'data_channel_is_world',\n",
    " 'data_channel_is_bus',\n",
    " 'num_hrefs',\n",
    " 'weekday_is_saturday']"
   ]
  },
  {
   "cell_type": "markdown",
   "metadata": {},
   "source": [
    "#### Scaling data"
   ]
  },
  {
   "cell_type": "code",
   "execution_count": 11,
   "metadata": {},
   "outputs": [],
   "source": [
    "numerical_features_selected = [i for i in numerical_features if i in features_selected]"
   ]
  },
  {
   "cell_type": "code",
   "execution_count": 12,
   "metadata": {},
   "outputs": [],
   "source": [
    "X_train_selected = X_train[features_selected]\n",
    "X_test_selected = X_test[features_selected]"
   ]
  },
  {
   "cell_type": "code",
   "execution_count": 13,
   "metadata": {},
   "outputs": [],
   "source": [
    "X_train_selected_norm = X_train_selected.copy()\n",
    "X_test_selected_norm = X_test_selected.copy()\n",
    "\n",
    "scaler = StandardScaler()\n",
    "scaler.fit(X_train[numerical_features_selected])\n",
    "X_train_selected_norm[numerical_features_selected] = scaler.transform(X_train_selected_norm[numerical_features_selected])\n",
    "X_test_selected_norm[numerical_features_selected] = scaler.transform(X_test_selected_norm[numerical_features_selected])"
   ]
  },
  {
   "cell_type": "markdown",
   "metadata": {},
   "source": [
    "#### NB & XGBoost"
   ]
  },
  {
   "cell_type": "code",
   "execution_count": 15,
   "metadata": {},
   "outputs": [
    {
     "name": "stdout",
     "output_type": "stream",
     "text": [
      "GaussianNB accuracy: 0.4931264976667928\n",
      "GaussianNB f1 score: 0.29948926216968813\n",
      "XGBooostClassifier accuracy: 0.6106696935300795\n",
      "XGBooostClassifier f1 score: 0.42179618620152687\n"
     ]
    }
   ],
   "source": [
    "model_fit(X_train_selected_norm,y_train,X_test_selected_norm)"
   ]
  },
  {
   "cell_type": "markdown",
   "metadata": {},
   "source": [
    "#### Logistic "
   ]
  },
  {
   "cell_type": "code",
   "execution_count": 36,
   "metadata": {},
   "outputs": [
    {
     "name": "stdout",
     "output_type": "stream",
     "text": [
      "Accuracy: 0.5764913608273426\n",
      "F1-score: 0.4603217589494595\n"
     ]
    }
   ],
   "source": [
    "logistic = LogisticRegression(random_state=2021,class_weight='balanced',solver='liblinear')\n",
    "logistic_result_new = logistic.fit(X_train_selected_norm, y_train)\n",
    "y_pred = logistic_result_new.predict(X_test_selected_norm)\n",
    "print(\"Accuracy:\",logistic_result_new.score(X_test_selected_norm,y_test))\n",
    "print(\"F1-score:\", f1_score(y_test, y_pred, average='macro'))\n"
   ]
  },
  {
   "cell_type": "markdown",
   "metadata": {},
   "source": [
    "#### Random Forest"
   ]
  },
  {
   "cell_type": "code",
   "execution_count": 37,
   "metadata": {},
   "outputs": [
    {
     "name": "stdout",
     "output_type": "stream",
     "text": [
      "Accuracy: 0.6123092445453399\n",
      "F1-score: 0.4195456627711007\n"
     ]
    }
   ],
   "source": [
    "rf= RandomForestClassifier(random_state=0,class_weight='balanced')\n",
    "rf_result_new = rf.fit(X_train_selected_norm, y_train)\n",
    "y_pred = rf_result_new.predict(X_test_selected_norm)\n",
    "print(\"Accuracy:\",rf_result_new.score(X_test_selected_norm,y_test))\n",
    "print(\"F1-score:\", f1_score(y_test, y_pred, average='macro'))"
   ]
  },
  {
   "cell_type": "markdown",
   "metadata": {},
   "source": [
    "#### AdaBoost"
   ]
  },
  {
   "cell_type": "code",
   "execution_count": 71,
   "metadata": {},
   "outputs": [],
   "source": [
    "ada_model = AdaBoostClassifier(random_state=2021)\n",
    "ada_result = ada_model.fit(X_test_selected_norm, y_train)\n",
    "y_pred = ada_result.predict(X_test_selected_norm)"
   ]
  },
  {
   "cell_type": "code",
   "execution_count": 73,
   "metadata": {},
   "outputs": [
    {
     "name": "stdout",
     "output_type": "stream",
     "text": [
      "accuracy: 0.6092823811325514\n",
      "F1-score: 0.4185208957376654\n"
     ]
    }
   ],
   "source": [
    "print(\"accuracy:\", ada_result.score(X_test_selected_norm,y_test))\n",
    "print(\"F1-score:\", f1_score(y_test, y_pred, average='macro'))"
   ]
  },
  {
   "cell_type": "markdown",
   "metadata": {},
   "source": [
    "<a name='p3' /></a>\n",
    "## 2.3 Feature Selection + UnderSampling"
   ]
  },
  {
   "cell_type": "code",
   "execution_count": 20,
   "metadata": {},
   "outputs": [],
   "source": [
    "rus = RandomUnderSampler()\n",
    "X_train_selected_norm_RUS, y_train_RUS = rus.fit_resample(X_train_selected_norm, y_train)"
   ]
  },
  {
   "cell_type": "markdown",
   "metadata": {},
   "source": [
    "#### NB & XGBoost"
   ]
  },
  {
   "cell_type": "code",
   "execution_count": 29,
   "metadata": {
    "scrolled": true
   },
   "outputs": [
    {
     "name": "stdout",
     "output_type": "stream",
     "text": [
      "GaussianNB accuracy: 0.52894438138479\n",
      "GaussianNB f1 score: 0.3773038394351366\n",
      "XGBooostClassifier accuracy: 0.4748391978811956\n",
      "XGBooostClassifier f1 score: 0.4124929097600029\n"
     ]
    }
   ],
   "source": [
    "model_fit(X_train_selected_norm_RUS,y_train_RUS,X_test_selected_norm)"
   ]
  },
  {
   "cell_type": "markdown",
   "metadata": {},
   "source": [
    "#### Logistic"
   ]
  },
  {
   "cell_type": "code",
   "execution_count": 56,
   "metadata": {
    "scrolled": true
   },
   "outputs": [
    {
     "name": "stdout",
     "output_type": "stream",
     "text": [
      "Accuracy: 0.5158279732627066\n",
      "F1-score: 0.4364396900832059\n"
     ]
    }
   ],
   "source": [
    "logistic = LogisticRegression(random_state=2021,class_weight='balanced',solver='liblinear')\n",
    "logistic_result_new = logistic.fit(X_train_selected_norm_RUS, y_train_RUS)\n",
    "y_pred_new = logistic_result_new.predict(X_test_selected_norm)\n",
    "print(\"Accuracy:\",logistic_result_new.score(X_test_selected_norm,y_test))\n",
    "print(\"F1-score:\", f1_score(y_test, y_pred_new, average='macro'))"
   ]
  },
  {
   "cell_type": "markdown",
   "metadata": {},
   "source": [
    "#### Random Forest"
   ]
  },
  {
   "cell_type": "code",
   "execution_count": 57,
   "metadata": {},
   "outputs": [
    {
     "name": "stdout",
     "output_type": "stream",
     "text": [
      "Accuracy: 0.6225249085635011\n",
      "F1-score: 0.42662559551382523\n"
     ]
    }
   ],
   "source": [
    "rf= RandomForestClassifier(random_state=2021,class_weight='balanced')\n",
    "rf_result_new = rf.fit(X_train_selected_norm_RUS, y_train_RUS)\n",
    "y_pred_new = rf_result_new.predict(X_test_selected_norm)\n",
    "print(\"Accuracy:\",rf_result_new.score(X_test_selected_norm,y_test))\n",
    "print(\"F1-score:\", f1_score(y_test, y_pred_new, average='macro'))"
   ]
  },
  {
   "cell_type": "markdown",
   "metadata": {},
   "source": [
    "#### AdaBoost"
   ]
  },
  {
   "cell_type": "code",
   "execution_count": 81,
   "metadata": {},
   "outputs": [],
   "source": [
    "ada_model = AdaBoostClassifier(random_state=2021)\n",
    "ada_result = ada_model.fit(X_train_selected_norm_RUS, y_train_RUS)\n",
    "y_pred = ada_result.predict(X_test_selected_norm)"
   ]
  },
  {
   "cell_type": "code",
   "execution_count": 83,
   "metadata": {
    "scrolled": true
   },
   "outputs": [
    {
     "name": "stdout",
     "output_type": "stream",
     "text": [
      "accuracy: 0.47773994198511793\n",
      "F1-score: 0.41521684203584686\n"
     ]
    }
   ],
   "source": [
    "print(\"accuracy:\", ada_result.score(X_test_selected_norm,y_test))\n",
    "print(\"F1-score:\", f1_score(y_test, y_pred, average='macro'))"
   ]
  },
  {
   "cell_type": "markdown",
   "metadata": {},
   "source": [
    "<a name='p4' /></a>\n",
    "## 2.4 Feature Selection + OverSampling"
   ]
  },
  {
   "cell_type": "code",
   "execution_count": 33,
   "metadata": {},
   "outputs": [],
   "source": [
    "smote = SMOTE()\n",
    "X_train_selected_norm_smote, y_train_smote = rus.fit_resample(X_train_selected_norm, y_train)"
   ]
  },
  {
   "cell_type": "markdown",
   "metadata": {},
   "source": [
    "#### NB & XGBoost"
   ]
  },
  {
   "cell_type": "code",
   "execution_count": 34,
   "metadata": {},
   "outputs": [
    {
     "name": "stdout",
     "output_type": "stream",
     "text": [
      "GaussianNB accuracy: 0.5540421238491613\n",
      "GaussianNB f1 score: 0.43105658755708665\n",
      "XGBooostClassifier accuracy: 0.485180981208223\n",
      "XGBooostClassifier f1 score: 0.4219694972822232\n"
     ]
    }
   ],
   "source": [
    "model_fit(X_train_selected_norm_smote,y_train_smote,X_test_selected_norm)"
   ]
  },
  {
   "cell_type": "markdown",
   "metadata": {},
   "source": [
    "#### Logistic"
   ]
  },
  {
   "cell_type": "code",
   "execution_count": 50,
   "metadata": {},
   "outputs": [
    {
     "name": "stdout",
     "output_type": "stream",
     "text": [
      "Accuracy: 0.5236473704124102\n",
      "F1-score: 0.4425407501889067\n"
     ]
    }
   ],
   "source": [
    "logistic = LogisticRegression(random_state=2021,class_weight='balanced',solver='liblinear')\n",
    "logistic_result_new = logistic.fit(X_train_selected_norm_smote, y_train_smote)\n",
    "y_pred_new = logistic_result_new.predict(X_test_selected_norm)\n",
    "print(\"Accuracy:\",logistic_result_new.score(X_test_selected_norm,y_test))\n",
    "print(\"F1-score:\", f1_score(y_test, y_pred_new, average='macro'))"
   ]
  },
  {
   "cell_type": "markdown",
   "metadata": {},
   "source": [
    "#### Random Forest"
   ]
  },
  {
   "cell_type": "code",
   "execution_count": 51,
   "metadata": {},
   "outputs": [
    {
     "name": "stdout",
     "output_type": "stream",
     "text": [
      "Accuracy: 0.6042376087779039\n",
      "F1-score: 0.4615303753358741\n"
     ]
    }
   ],
   "source": [
    "rf= RandomForestClassifier(random_state=2021,class_weight='balanced')\n",
    "rf_result_new = rf.fit(X_train_selected_norm_smote, y_train_smote)\n",
    "y_pred_new = rf_result_new.predict((X_test_selected_norm)\n",
    "print(\"Accuracy:\",rf_result_new.score(X_test_selected_norm,y_test))\n",
    "print(\"F1-score:\", f1_score(y_test, y_pred, average='macro'))"
   ]
  },
  {
   "cell_type": "markdown",
   "metadata": {},
   "source": [
    "#### AdaBoost"
   ]
  },
  {
   "cell_type": "code",
   "execution_count": 76,
   "metadata": {},
   "outputs": [],
   "source": [
    "ada_model = AdaBoostClassifier(random_state=2021)\n",
    "ada_result = ada_model.fit(X_train_selected_norm_smote, y_train_smote)\n",
    "y_pred = ada_result.predict(X_test_selected_norm)"
   ]
  },
  {
   "cell_type": "code",
   "execution_count": 78,
   "metadata": {},
   "outputs": [
    {
     "name": "stdout",
     "output_type": "stream",
     "text": [
      "accuracy: 0.5568167486442175\n",
      "F1-score: 0.4636960258446134\n"
     ]
    }
   ],
   "source": [
    "print(\"accuracy:\", ada_result.score(X_test_selected_norm,y_test))\n",
    "print(\"F1-score:\", f1_score(y_test, y_pred, average='macro'))"
   ]
  },
  {
   "cell_type": "markdown",
   "metadata": {},
   "source": [
    "<a name='p5' /></a>\n",
    "## 2.5 Feature Selection + Model Tuning"
   ]
  },
  {
   "cell_type": "markdown",
   "metadata": {},
   "source": [
    "### Bayes Tuning"
   ]
  },
  {
   "cell_type": "code",
   "execution_count": 40,
   "metadata": {},
   "outputs": [
    {
     "data": {
      "text/plain": [
       "{'var_smoothing': 0.8111308307896871}"
      ]
     },
     "execution_count": 40,
     "metadata": {},
     "output_type": "execute_result"
    }
   ],
   "source": [
    "nb_classifier = GaussianNB()\n",
    "\n",
    "params_NB = {'var_smoothing': np.logspace(0,-9, num=100)}\n",
    "\n",
    "gs_NB = GridSearchCV(estimator=nb_classifier, \n",
    "                 param_grid=params_NB, \n",
    "                 cv=5,\n",
    "                 n_jobs = -1, \n",
    "                 scoring='accuracy') \n",
    "gs_NB.fit(X_train_selected_norm, y_train)\n",
    "\n",
    "gs_NB.best_params_"
   ]
  },
  {
   "cell_type": "code",
   "execution_count": 41,
   "metadata": {},
   "outputs": [
    {
     "name": "stdout",
     "output_type": "stream",
     "text": [
      "nb_classifier accuracy: 0.500693656198764\n",
      "nb_classifier f1 score: 0.25676742033508554\n"
     ]
    }
   ],
   "source": [
    "prediction = gs_NB.predict(X_test_selected_norm)\n",
    "score = accuracy_score(y_test, prediction)\n",
    "f1 = f1_score(y_test, prediction, average='macro')\n",
    "print(\"{}{}{}\".format('nb_classifier', \" accuracy: \", score))\n",
    "print(\"{}{}{}\".format('nb_classifier', \" f1 score: \", f1))"
   ]
  },
  {
   "cell_type": "markdown",
   "metadata": {},
   "source": [
    "### XGBoost Tuning"
   ]
  },
  {
   "cell_type": "code",
   "execution_count": 22,
   "metadata": {},
   "outputs": [
    {
     "name": "stdout",
     "output_type": "stream",
     "text": [
      "Fitting 5 folds for each of 18 candidates, totalling 90 fits\n"
     ]
    },
    {
     "data": {
      "text/plain": [
       "{'learning_rate': 0.1, 'max_depth': 5, 'n_estimators': 100}"
      ]
     },
     "execution_count": 22,
     "metadata": {},
     "output_type": "execute_result"
    }
   ],
   "source": [
    "xgb_classifier = XGBClassifier()\n",
    "params_xgb = {\n",
    "    'learning_rate': [0.01, 0.1],\n",
    "    'max_depth': [2,5,7],\n",
    "    'n_estimators': [50, 100, 200]\n",
    "    }\n",
    "\n",
    "gs_xgb = GridSearchCV(estimator=xgb_classifier, \n",
    "                 param_grid=params_xgb, \n",
    "                 cv=5,\n",
    "                 n_jobs = -1,\n",
    "                 verbose = 1,\n",
    "                 scoring='accuracy') \n",
    "gs_xgb.fit(X_train_selected_norm, y_train)\n",
    "\n",
    "gs_xgb.best_params_"
   ]
  },
  {
   "cell_type": "code",
   "execution_count": 23,
   "metadata": {},
   "outputs": [
    {
     "name": "stdout",
     "output_type": "stream",
     "text": [
      "xgb_classifier accuracy: 0.6165973010467902\n",
      "xgb_classifier f1 score: 0.4196585787719768\n"
     ]
    }
   ],
   "source": [
    "prediction = gs_xgb.predict(X_test_selected_norm)\n",
    "score = accuracy_score(y_test, prediction)\n",
    "f1 = f1_score(y_test, prediction, average='macro')\n",
    "print(\"{}{}{}\".format('xgb_classifier', \" accuracy: \", score))\n",
    "print(\"{}{}{}\".format('xgb_classifier', \" f1 score: \", f1))"
   ]
  },
  {
   "cell_type": "markdown",
   "metadata": {},
   "source": [
    "### Logistic Tuning"
   ]
  },
  {
   "cell_type": "code",
   "execution_count": 60,
   "metadata": {},
   "outputs": [],
   "source": [
    "def clf_grid_cv(clf, search_spaces):\n",
    "    \n",
    "    pipe = Pipeline([('scl', StandardScaler()),\n",
    "                    ('clf', clf)])\n",
    "    \n",
    "    grid_cv = GridSearchCV(pipe,\n",
    "                            search_spaces,\n",
    "                            cv=3,\n",
    "                            n_jobs = -1,\n",
    "                            refit = True\n",
    "                           )\n",
    "    grid_cv.fit(X_train_selected_norm, y_train)\n",
    "    print(\"val. score: %s\" % grid_cv.best_score_)\n",
    "    print(\"test score: %s\" % grid_cv.score(X_test_selected_norm, y_test))\n",
    "    print(\"best params: %s\" % str(grid_cv.best_params_))    \n",
    "    \n",
    "    return grid_cv"
   ]
  },
  {
   "cell_type": "code",
   "execution_count": 59,
   "metadata": {},
   "outputs": [],
   "source": [
    "search_spaces_logi = {\n",
    "    'clf__penalty' : ['l1', 'l2'],\n",
    "    'clf__C' :  [100, 10, 1.0, 0.1, 0.01]\n",
    "    }"
   ]
  },
  {
   "cell_type": "code",
   "execution_count": 64,
   "metadata": {},
   "outputs": [
    {
     "name": "stdout",
     "output_type": "stream",
     "text": [
      "val. score: 0.6099322129295283\n",
      "test score: 0.6129398410896708\n",
      "best params: {'clf__C': 10, 'clf__penalty': 'l2'}\n"
     ]
    }
   ],
   "source": [
    "clf_result = clf_grid_cv(LogisticRegression(random_state=2021,solver='liblinear'),search_spaces_logi)"
   ]
  },
  {
   "cell_type": "code",
   "execution_count": 81,
   "metadata": {},
   "outputs": [
    {
     "name": "stdout",
     "output_type": "stream",
     "text": [
      "Accuracy 0.613065960398537\n",
      "F1-score: 0.41578603167369516\n"
     ]
    }
   ],
   "source": [
    "logistic = LogisticRegression(random_state=2021,solver='liblinear',penalty= 'l2',C=10)\n",
    "logistic.fit(X_train_selected_norm, y_train)\n",
    "y_pred_new = logistic.predict(X_test_selected_norm)\n",
    "print(\"Accuracy\",logistic.score(X_test_selected_norm, y_test))\n",
    "print(\"F1-score:\", f1_score(y_pred_new,y_test,average='macro'))"
   ]
  },
  {
   "cell_type": "markdown",
   "metadata": {},
   "source": [
    "### Random Forest Tuning"
   ]
  },
  {
   "cell_type": "code",
   "execution_count": 85,
   "metadata": {},
   "outputs": [],
   "source": [
    "search_spaces_rf = {\n",
    "    'clf__max_depth': [10,20,50,80,100],\n",
    "    'clf__min_samples_leaf': [3, 4, 5],\n",
    "    'clf__n_estimators': [100, 200, 300, 1000]\n",
    "    }"
   ]
  },
  {
   "cell_type": "code",
   "execution_count": 86,
   "metadata": {},
   "outputs": [
    {
     "name": "stdout",
     "output_type": "stream",
     "text": [
      "val. score: 0.6262023225972527\n",
      "test score: 0.6258040105940219\n",
      "best params: {'clf__max_depth': 50, 'clf__min_samples_leaf': 5, 'clf__n_estimators': 1000}\n"
     ]
    }
   ],
   "source": [
    "rf_result = clf_grid_cv(RandomForestClassifier(random_state=2021),search_spaces_rf)"
   ]
  },
  {
   "cell_type": "code",
   "execution_count": 87,
   "metadata": {},
   "outputs": [
    {
     "name": "stdout",
     "output_type": "stream",
     "text": [
      "accuracy 0.6258040105940219\n",
      "F1-score: 0.42614397491568784\n"
     ]
    }
   ],
   "source": [
    "rf = RandomForestClassifier(random_state=2021,max_depth= 50, min_samples_leaf= 5, n_estimators= 1000)\n",
    "rf.fit(X_train_selected_norm, y_train)\n",
    "y_pred_new = rf.predict(X_test_selected_norm)\n",
    "print(\"accuracy\",rf.score(X_test_selected_norm, y_test))\n",
    "print(\"F1-score:\", f1_score(y_pred_new,y_test,average='macro'))"
   ]
  },
  {
   "cell_type": "markdown",
   "metadata": {},
   "source": [
    "### AdaBoost Tuning"
   ]
  },
  {
   "cell_type": "code",
   "execution_count": 14,
   "metadata": {},
   "outputs": [],
   "source": [
    "ada = AdaBoostClassifier(random_state=2021)\n",
    "search_spaces_ada = {\n",
    "'clf__n_estimators':[10,50,100,500,1000],\n",
    "'clf__learning_rate':[0.01,0.1,1,10,100],\n",
    "    }\n",
    "\n",
    "clf = GridSearchCV(ada, search_spaces_ada,scoring = 'roc_auc',cv=3,\n",
    "                    n_jobs = -1,refit = True)"
   ]
  },
  {
   "cell_type": "code",
   "execution_count": 33,
   "metadata": {},
   "outputs": [
    {
     "name": "stderr",
     "output_type": "stream",
     "text": [
      "D:\\Anaconda3\\lib\\site-packages\\sklearn\\model_selection\\_search.py:918: UserWarning: One or more of the test scores are non-finite: [0.55062264 0.56178445 0.5632034  0.59637383 0.61333751 0.5640547\n",
      " 0.59697288 0.61317984 0.62326977 0.62320666 0.59728847 0.61800412\n",
      " 0.62194543 0.62251297 0.62021111 0.20611224 0.5067003  0.20611224\n",
      " 0.5067003  0.20611224        nan        nan        nan        nan\n",
      "        nan]\n",
      "  warnings.warn(\n"
     ]
    },
    {
     "name": "stdout",
     "output_type": "stream",
     "text": [
      "val. score: 0.6232697653122603\n",
      "test score: 0.6123092445453399\n",
      "best params: {'clf__learning_rate': 0.1, 'clf__n_estimators': 500}\n"
     ]
    }
   ],
   "source": [
    "clf_result = clf_grid_cv(AdaBoostClassifier(random_state=2021),search_spaces_ada)"
   ]
  },
  {
   "cell_type": "code",
   "execution_count": 34,
   "metadata": {},
   "outputs": [
    {
     "data": {
      "text/plain": [
       "{'clf__learning_rate': 0.1, 'clf__n_estimators': 500}"
      ]
     },
     "execution_count": 34,
     "metadata": {},
     "output_type": "execute_result"
    }
   ],
   "source": [
    "clf_result.best_params_"
   ]
  },
  {
   "cell_type": "code",
   "execution_count": 19,
   "metadata": {},
   "outputs": [],
   "source": [
    "ada_model = AdaBoostClassifier(random_state=2021, learning_rate=0.1, n_estimators=500)\n",
    "ada_result = ada_model.fit(X_train_selected_norm, y_train)\n",
    "y_pred = ada_result.predict(X_test_selected_norm)"
   ]
  },
  {
   "cell_type": "code",
   "execution_count": 21,
   "metadata": {},
   "outputs": [
    {
     "name": "stdout",
     "output_type": "stream",
     "text": [
      "accuracy: 0.6123092445453399\n",
      "F1-score: 0.41697418464834257\n"
     ]
    }
   ],
   "source": [
    "print(\"accuracy:\", ada_result.score(X_test_selected_norm,y_test))\n",
    "print(\"F1-score:\", f1_score(y_test, y_pred, average='macro'))"
   ]
  },
  {
   "cell_type": "markdown",
   "metadata": {},
   "source": [
    "## Insights"
   ]
  },
  {
   "cell_type": "code",
   "execution_count": 14,
   "metadata": {},
   "outputs": [
    {
     "name": "stdout",
     "output_type": "stream",
     "text": [
      "accuracy 0.6125614831630722\n",
      "F1-score: 0.41690422053424636\n"
     ]
    }
   ],
   "source": [
    "rf = RandomForestClassifier(random_state=2021,max_depth= 50, min_samples_leaf= 5, n_estimators= 1000)\n",
    "rf.fit(X_train_selected_norm, y_train)\n",
    "y_pred_new = rf.predict(X_test_selected_norm)\n",
    "print(\"accuracy\",rf.score(X_test_selected_norm, y_test))\n",
    "print(\"F1-score:\", f1_score(y_pred_new,y_test,average='macro'))"
   ]
  },
  {
   "cell_type": "markdown",
   "metadata": {},
   "source": [
    "### Permutation Importance"
   ]
  },
  {
   "cell_type": "code",
   "execution_count": 16,
   "metadata": {},
   "outputs": [
    {
     "data": {
      "text/html": [
       "\n",
       "    <style>\n",
       "    table.eli5-weights tr:hover {\n",
       "        filter: brightness(85%);\n",
       "    }\n",
       "</style>\n",
       "\n",
       "\n",
       "\n",
       "    \n",
       "\n",
       "    \n",
       "\n",
       "    \n",
       "\n",
       "    \n",
       "\n",
       "    \n",
       "\n",
       "    \n",
       "\n",
       "\n",
       "    \n",
       "\n",
       "    \n",
       "\n",
       "    \n",
       "\n",
       "    \n",
       "\n",
       "    \n",
       "\n",
       "    \n",
       "\n",
       "\n",
       "    \n",
       "\n",
       "    \n",
       "\n",
       "    \n",
       "\n",
       "    \n",
       "\n",
       "    \n",
       "        <table class=\"eli5-weights eli5-feature-importances\" style=\"border-collapse: collapse; border: none; margin-top: 0em; table-layout: auto;\">\n",
       "    <thead>\n",
       "    <tr style=\"border: none;\">\n",
       "        <th style=\"padding: 0 1em 0 0.5em; text-align: right; border: none;\">Weight</th>\n",
       "        <th style=\"padding: 0 0.5em 0 0.5em; text-align: left; border: none;\">Feature</th>\n",
       "    </tr>\n",
       "    </thead>\n",
       "    <tbody>\n",
       "    \n",
       "        <tr style=\"background-color: hsl(120, 100.00%, 80.00%); border: none;\">\n",
       "            <td style=\"padding: 0 1em 0 0.5em; text-align: right; border: none;\">\n",
       "                0.0109\n",
       "                \n",
       "                    &plusmn; 0.0026\n",
       "                \n",
       "            </td>\n",
       "            <td style=\"padding: 0 0.5em 0 0.5em; text-align: left; border: none;\">\n",
       "                is_weekend\n",
       "            </td>\n",
       "        </tr>\n",
       "    \n",
       "        <tr style=\"background-color: hsl(120, 100.00%, 84.23%); border: none;\">\n",
       "            <td style=\"padding: 0 1em 0 0.5em; text-align: right; border: none;\">\n",
       "                0.0078\n",
       "                \n",
       "                    &plusmn; 0.0037\n",
       "                \n",
       "            </td>\n",
       "            <td style=\"padding: 0 0.5em 0 0.5em; text-align: left; border: none;\">\n",
       "                kw_avg_avg\n",
       "            </td>\n",
       "        </tr>\n",
       "    \n",
       "        <tr style=\"background-color: hsl(120, 100.00%, 85.88%); border: none;\">\n",
       "            <td style=\"padding: 0 1em 0 0.5em; text-align: right; border: none;\">\n",
       "                0.0067\n",
       "                \n",
       "                    &plusmn; 0.0032\n",
       "                \n",
       "            </td>\n",
       "            <td style=\"padding: 0 0.5em 0 0.5em; text-align: left; border: none;\">\n",
       "                data_channel_is_entertainment\n",
       "            </td>\n",
       "        </tr>\n",
       "    \n",
       "        <tr style=\"background-color: hsl(120, 100.00%, 88.17%); border: none;\">\n",
       "            <td style=\"padding: 0 1em 0 0.5em; text-align: right; border: none;\">\n",
       "                0.0052\n",
       "                \n",
       "                    &plusmn; 0.0021\n",
       "                \n",
       "            </td>\n",
       "            <td style=\"padding: 0 0.5em 0 0.5em; text-align: left; border: none;\">\n",
       "                self_reference_min_shares\n",
       "            </td>\n",
       "        </tr>\n",
       "    \n",
       "        <tr style=\"background-color: hsl(120, 100.00%, 90.90%); border: none;\">\n",
       "            <td style=\"padding: 0 1em 0 0.5em; text-align: right; border: none;\">\n",
       "                0.0036\n",
       "                \n",
       "                    &plusmn; 0.0011\n",
       "                \n",
       "            </td>\n",
       "            <td style=\"padding: 0 0.5em 0 0.5em; text-align: left; border: none;\">\n",
       "                data_channel_is_socmed\n",
       "            </td>\n",
       "        </tr>\n",
       "    \n",
       "        <tr style=\"background-color: hsl(120, 100.00%, 90.94%); border: none;\">\n",
       "            <td style=\"padding: 0 1em 0 0.5em; text-align: right; border: none;\">\n",
       "                0.0035\n",
       "                \n",
       "                    &plusmn; 0.0030\n",
       "                \n",
       "            </td>\n",
       "            <td style=\"padding: 0 0.5em 0 0.5em; text-align: left; border: none;\">\n",
       "                kw_max_avg\n",
       "            </td>\n",
       "        </tr>\n",
       "    \n",
       "        <tr style=\"background-color: hsl(120, 100.00%, 91.54%); border: none;\">\n",
       "            <td style=\"padding: 0 1em 0 0.5em; text-align: right; border: none;\">\n",
       "                0.0032\n",
       "                \n",
       "                    &plusmn; 0.0046\n",
       "                \n",
       "            </td>\n",
       "            <td style=\"padding: 0 0.5em 0 0.5em; text-align: left; border: none;\">\n",
       "                LDA_02\n",
       "            </td>\n",
       "        </tr>\n",
       "    \n",
       "        <tr style=\"background-color: hsl(120, 100.00%, 91.87%); border: none;\">\n",
       "            <td style=\"padding: 0 1em 0 0.5em; text-align: right; border: none;\">\n",
       "                0.0030\n",
       "                \n",
       "                    &plusmn; 0.0021\n",
       "                \n",
       "            </td>\n",
       "            <td style=\"padding: 0 0.5em 0 0.5em; text-align: left; border: none;\">\n",
       "                kw_min_avg\n",
       "            </td>\n",
       "        </tr>\n",
       "    \n",
       "        <tr style=\"background-color: hsl(120, 100.00%, 92.25%); border: none;\">\n",
       "            <td style=\"padding: 0 1em 0 0.5em; text-align: right; border: none;\">\n",
       "                0.0028\n",
       "                \n",
       "                    &plusmn; 0.0015\n",
       "                \n",
       "            </td>\n",
       "            <td style=\"padding: 0 0.5em 0 0.5em; text-align: left; border: none;\">\n",
       "                average_token_length\n",
       "            </td>\n",
       "        </tr>\n",
       "    \n",
       "        <tr style=\"background-color: hsl(120, 100.00%, 92.99%); border: none;\">\n",
       "            <td style=\"padding: 0 1em 0 0.5em; text-align: right; border: none;\">\n",
       "                0.0024\n",
       "                \n",
       "                    &plusmn; 0.0018\n",
       "                \n",
       "            </td>\n",
       "            <td style=\"padding: 0 0.5em 0 0.5em; text-align: left; border: none;\">\n",
       "                global_subjectivity\n",
       "            </td>\n",
       "        </tr>\n",
       "    \n",
       "        <tr style=\"background-color: hsl(120, 100.00%, 93.20%); border: none;\">\n",
       "            <td style=\"padding: 0 1em 0 0.5em; text-align: right; border: none;\">\n",
       "                0.0023\n",
       "                \n",
       "                    &plusmn; 0.0021\n",
       "                \n",
       "            </td>\n",
       "            <td style=\"padding: 0 0.5em 0 0.5em; text-align: left; border: none;\">\n",
       "                num_imgs\n",
       "            </td>\n",
       "        </tr>\n",
       "    \n",
       "        <tr style=\"background-color: hsl(120, 100.00%, 94.04%); border: none;\">\n",
       "            <td style=\"padding: 0 1em 0 0.5em; text-align: right; border: none;\">\n",
       "                0.0019\n",
       "                \n",
       "                    &plusmn; 0.0012\n",
       "                \n",
       "            </td>\n",
       "            <td style=\"padding: 0 0.5em 0 0.5em; text-align: left; border: none;\">\n",
       "                data_channel_is_world\n",
       "            </td>\n",
       "        </tr>\n",
       "    \n",
       "        <tr style=\"background-color: hsl(120, 100.00%, 94.76%); border: none;\">\n",
       "            <td style=\"padding: 0 1em 0 0.5em; text-align: right; border: none;\">\n",
       "                0.0016\n",
       "                \n",
       "                    &plusmn; 0.0020\n",
       "                \n",
       "            </td>\n",
       "            <td style=\"padding: 0 0.5em 0 0.5em; text-align: left; border: none;\">\n",
       "                LDA_03\n",
       "            </td>\n",
       "        </tr>\n",
       "    \n",
       "        <tr style=\"background-color: hsl(120, 100.00%, 94.76%); border: none;\">\n",
       "            <td style=\"padding: 0 1em 0 0.5em; text-align: right; border: none;\">\n",
       "                0.0016\n",
       "                \n",
       "                    &plusmn; 0.0041\n",
       "                \n",
       "            </td>\n",
       "            <td style=\"padding: 0 0.5em 0 0.5em; text-align: left; border: none;\">\n",
       "                LDA_01\n",
       "            </td>\n",
       "        </tr>\n",
       "    \n",
       "        <tr style=\"background-color: hsl(120, 100.00%, 95.66%); border: none;\">\n",
       "            <td style=\"padding: 0 1em 0 0.5em; text-align: right; border: none;\">\n",
       "                0.0012\n",
       "                \n",
       "                    &plusmn; 0.0027\n",
       "                \n",
       "            </td>\n",
       "            <td style=\"padding: 0 0.5em 0 0.5em; text-align: left; border: none;\">\n",
       "                data_channel_is_tech\n",
       "            </td>\n",
       "        </tr>\n",
       "    \n",
       "        <tr style=\"background-color: hsl(120, 100.00%, 96.36%); border: none;\">\n",
       "            <td style=\"padding: 0 1em 0 0.5em; text-align: right; border: none;\">\n",
       "                0.0010\n",
       "                \n",
       "                    &plusmn; 0.0014\n",
       "                \n",
       "            </td>\n",
       "            <td style=\"padding: 0 0.5em 0 0.5em; text-align: left; border: none;\">\n",
       "                kw_avg_min\n",
       "            </td>\n",
       "        </tr>\n",
       "    \n",
       "        <tr style=\"background-color: hsl(120, 100.00%, 96.50%); border: none;\">\n",
       "            <td style=\"padding: 0 1em 0 0.5em; text-align: right; border: none;\">\n",
       "                0.0009\n",
       "                \n",
       "                    &plusmn; 0.0020\n",
       "                \n",
       "            </td>\n",
       "            <td style=\"padding: 0 0.5em 0 0.5em; text-align: left; border: none;\">\n",
       "                kw_max_min\n",
       "            </td>\n",
       "        </tr>\n",
       "    \n",
       "        <tr style=\"background-color: hsl(120, 100.00%, 96.57%); border: none;\">\n",
       "            <td style=\"padding: 0 1em 0 0.5em; text-align: right; border: none;\">\n",
       "                0.0009\n",
       "                \n",
       "                    &plusmn; 0.0023\n",
       "                \n",
       "            </td>\n",
       "            <td style=\"padding: 0 0.5em 0 0.5em; text-align: left; border: none;\">\n",
       "                n_non_stop_unique_tokens\n",
       "            </td>\n",
       "        </tr>\n",
       "    \n",
       "        <tr style=\"background-color: hsl(120, 100.00%, 96.92%); border: none;\">\n",
       "            <td style=\"padding: 0 1em 0 0.5em; text-align: right; border: none;\">\n",
       "                0.0008\n",
       "                \n",
       "                    &plusmn; 0.0039\n",
       "                \n",
       "            </td>\n",
       "            <td style=\"padding: 0 0.5em 0 0.5em; text-align: left; border: none;\">\n",
       "                self_reference_avg_sharess\n",
       "            </td>\n",
       "        </tr>\n",
       "    \n",
       "        <tr style=\"background-color: hsl(120, 100.00%, 97.52%); border: none;\">\n",
       "            <td style=\"padding: 0 1em 0 0.5em; text-align: right; border: none;\">\n",
       "                0.0006\n",
       "                \n",
       "                    &plusmn; 0.0013\n",
       "                \n",
       "            </td>\n",
       "            <td style=\"padding: 0 0.5em 0 0.5em; text-align: left; border: none;\">\n",
       "                data_channel_is_bus\n",
       "            </td>\n",
       "        </tr>\n",
       "    \n",
       "    \n",
       "        \n",
       "            <tr style=\"background-color: hsl(120, 100.00%, 97.52%); border: none;\">\n",
       "                <td colspan=\"2\" style=\"padding: 0 0.5em 0 0.5em; text-align: center; border: none; white-space: nowrap;\">\n",
       "                    <i>&hellip; 8 more &hellip;</i>\n",
       "                </td>\n",
       "            </tr>\n",
       "        \n",
       "    \n",
       "    </tbody>\n",
       "</table>\n",
       "    \n",
       "\n",
       "    \n",
       "\n",
       "\n",
       "    \n",
       "\n",
       "    \n",
       "\n",
       "    \n",
       "\n",
       "    \n",
       "\n",
       "    \n",
       "\n",
       "    \n",
       "\n",
       "\n",
       "\n"
      ],
      "text/plain": [
       "<IPython.core.display.HTML object>"
      ]
     },
     "execution_count": 16,
     "metadata": {},
     "output_type": "execute_result"
    }
   ],
   "source": [
    "import eli5\n",
    "from eli5.sklearn import PermutationImportance\n",
    "\n",
    "perm = PermutationImportance(rf).fit(X_test_selected_norm, y_test)\n",
    "eli5.show_weights(perm, feature_names = X_test_selected_norm.columns.tolist())"
   ]
  },
  {
   "cell_type": "markdown",
   "metadata": {},
   "source": [
    "### Partial Dependence Plot"
   ]
  },
  {
   "cell_type": "code",
   "execution_count": 20,
   "metadata": {},
   "outputs": [
    {
     "data": {
      "image/png": "[encoded data removed]",
      "text/plain": [
       "<Figure size 1080x1080 with 4 Axes>"
      ]
     },
     "metadata": {},
     "output_type": "display_data"
    }
   ],
   "source": [
    "from matplotlib import pyplot as plt\n",
    "from pdpbox import pdp, get_dataset, info_plots\n",
    "\n",
    "# Create the data that we will plot\n",
    "pdp_goals = pdp.pdp_isolate(model=rf, dataset=X_test_selected_norm, model_features=X_test_selected_norm.columns.tolist(), feature='is_weekend')\n",
    "\n",
    "# plot it\n",
    "pdp.pdp_plot(pdp_goals, 'is_weekend')\n",
    "plt.show()"
   ]
  },
  {
   "cell_type": "code",
   "execution_count": 21,
   "metadata": {},
   "outputs": [
    {
     "data": {
      "image/png": "[encoded data removed]",
      "text/plain": [
       "<Figure size 1080x1080 with 4 Axes>"
      ]
     },
     "metadata": {},
     "output_type": "display_data"
    }
   ],
   "source": [
    "# Create the data that we will plot\n",
    "pdp_goals = pdp.pdp_isolate(model=rf, dataset=X_test_selected_norm, model_features=X_test_selected_norm.columns.tolist(), feature='kw_avg_avg')\n",
    "\n",
    "# plot it\n",
    "pdp.pdp_plot(pdp_goals, 'kw_avg_avg')\n",
    "plt.show()"
   ]
  },
  {
   "cell_type": "code",
   "execution_count": 22,
   "metadata": {},
   "outputs": [
    {
     "data": {
      "image/png": "[encoded data removed]",
      "text/plain": [
       "<Figure size 1080x1080 with 4 Axes>"
      ]
     },
     "metadata": {},
     "output_type": "display_data"
    }
   ],
   "source": [
    "# Create the data that we will plot\n",
    "pdp_goals = pdp.pdp_isolate(model=rf, dataset=X_test_selected_norm, model_features=X_test_selected_norm.columns.tolist(), feature='data_channel_is_entertainment')\n",
    "\n",
    "# plot it\n",
    "pdp.pdp_plot(pdp_goals, 'data_channel_is_entertainment')\n",
    "plt.show()"
   ]
  }
 ],
 "metadata": {
  "kernelspec": {
   "display_name": "Python 3",
   "language": "python",
   "name": "python3"
  },
  "language_info": {
   "codemirror_mode": {
    "name": "ipython",
    "version": 3
   },
   "file_extension": ".py",
   "mimetype": "text/x-python",
   "name": "python",
   "nbconvert_exporter": "python",
   "pygments_lexer": "ipython3",
   "version": "3.7.6"
  }
 },
 "nbformat": 4,
 "nbformat_minor": 4
}
